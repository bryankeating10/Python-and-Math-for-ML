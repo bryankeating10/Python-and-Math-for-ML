{
 "cells": [
  {
   "cell_type": "markdown",
   "id": "2dc558ff",
   "metadata": {},
   "source": [
    "# **Quiz 1 Preparation**"
   ]
  },
  {
   "cell_type": "markdown",
   "id": "8614513b",
   "metadata": {},
   "source": [
    "## Variable types"
   ]
  },
  {
   "cell_type": "code",
   "execution_count": 2,
   "id": "eb231250",
   "metadata": {},
   "outputs": [
    {
     "name": "stdout",
     "output_type": "stream",
     "text": [
      "<class 'int'>\n"
     ]
    }
   ],
   "source": [
    "# Integer type - whole numbers\n",
    "x = 5\n",
    "print(type(x))"
   ]
  },
  {
   "cell_type": "code",
   "execution_count": 3,
   "id": "e162f3b5",
   "metadata": {},
   "outputs": [
    {
     "name": "stdout",
     "output_type": "stream",
     "text": [
      "<class 'float'>\n"
     ]
    }
   ],
   "source": [
    "# Floating point type (float) - decimal numbers\n",
    "y= 5.5\n",
    "print(type(y))"
   ]
  },
  {
   "cell_type": "code",
   "execution_count": 4,
   "id": "c071cfb9",
   "metadata": {},
   "outputs": [
    {
     "name": "stdout",
     "output_type": "stream",
     "text": [
      "<class 'str'>\n"
     ]
    }
   ],
   "source": [
    "# String type - text\n",
    "name = \"Bryan\"\n",
    "print(type(name))"
   ]
  },
  {
   "cell_type": "code",
   "execution_count": 5,
   "id": "c564c524",
   "metadata": {},
   "outputs": [
    {
     "name": "stdout",
     "output_type": "stream",
     "text": [
      "<class 'bool'>\n"
     ]
    }
   ],
   "source": [
    "# Boolean type - True or False\n",
    "is_student = True\n",
    "print(type(is_student))"
   ]
  },
  {
   "cell_type": "code",
   "execution_count": null,
   "id": "75fe65a0",
   "metadata": {},
   "outputs": [
    {
     "name": "stdout",
     "output_type": "stream",
     "text": [
      "<class 'list'>\n"
     ]
    }
   ],
   "source": [
    "# List type - ordered collection of items\n",
    "fruits = [\"apple\", \"banana\", \"cherry\", \"apple\", \"banana\"]\n",
    "print(type(fruits))"
   ]
  },
  {
   "cell_type": "code",
   "execution_count": 7,
   "id": "c60a5e7d",
   "metadata": {},
   "outputs": [
    {
     "name": "stdout",
     "output_type": "stream",
     "text": [
      "<class 'dict'>\n"
     ]
    }
   ],
   "source": [
    "#  Dictionary type - key-value pairs\n",
    "person = {\"name\": \"Alice\", \"age\": 30}\n",
    "print(type(person))"
   ]
  },
  {
   "cell_type": "code",
   "execution_count": null,
   "id": "27fa191b",
   "metadata": {},
   "outputs": [
    {
     "name": "stdout",
     "output_type": "stream",
     "text": [
      "<class 'set'>\n",
      "List with duplicates: ['apple', 'banana', 'cherry']\n",
      "Set from list:  {'banana', 'apple', 'cherry'}\n"
     ]
    }
   ],
   "source": [
    "# Set type - unordered collection of unique items\n",
    "unique_numbers = {1, 2, 3, 4, 5}\n",
    "print(type(unique_numbers))\n",
    "print('List with duplicates:', fruits)\n",
    "print('Set from list: ', set(fruits))"
   ]
  },
  {
   "cell_type": "code",
   "execution_count": 9,
   "id": "63294799",
   "metadata": {},
   "outputs": [
    {
     "name": "stdout",
     "output_type": "stream",
     "text": [
      "<class 'NoneType'>\n"
     ]
    }
   ],
   "source": [
    "# None type - represents the absence of a value\n",
    "nothing = None\n",
    "print(type(nothing))"
   ]
  },
  {
   "cell_type": "markdown",
   "id": "800f91c7",
   "metadata": {},
   "source": [
    "## Strings"
   ]
  },
  {
   "cell_type": "code",
   "execution_count": null,
   "id": "fab661fe",
   "metadata": {},
   "outputs": [
    {
     "name": "stdout",
     "output_type": "stream",
     "text": [
      "This is a multi-line string.\n",
      "It can span multiple lines and include both 'single' and \"double\" quotes.\n"
     ]
    }
   ],
   "source": [
    "# Use triple quotes for multi-line strings or to include both single and double quotes\n",
    "multi_line_string = \"\"\"This is a multi-line string.\n",
    "It can span multiple lines and include both 'single' and \"double\" quotes.\"\"\"\n",
    "print(multi_line_string)"
   ]
  },
  {
   "cell_type": "code",
   "execution_count": 20,
   "id": "1924077a",
   "metadata": {},
   "outputs": [
    {
     "name": "stdout",
     "output_type": "stream",
     "text": [
      "First character: A\n",
      "Last character: Z\n",
      "Every other character starting from index 0: ACEGIKMOQSUWY\n"
     ]
    }
   ],
   "source": [
    "# Indexing and slicing\n",
    "sample_string = \"ABCDEFGHIJKLMNOPQRSTUVWXYZ\"\n",
    "print('First character: {0}'.format(sample_string[0]))\n",
    "print('Last character: {0}'.format(sample_string[-1]))\n",
    "print(f'Every other character starting from index 0: {sample_string[0::2]}')\n"
   ]
  },
  {
   "cell_type": "code",
   "execution_count": null,
   "id": "38720ef4",
   "metadata": {},
   "outputs": [
    {
     "name": "stdout",
     "output_type": "stream",
     "text": [
      "Hello\n",
      "World\n"
     ]
    }
   ],
   "source": [
    "# New line\n",
    "print(\"Hello\\nWorld\")"
   ]
  },
  {
   "cell_type": "code",
   "execution_count": 23,
   "id": "99a3ddc4",
   "metadata": {},
   "outputs": [
    {
     "name": "stdout",
     "output_type": "stream",
     "text": [
      "Hello\\nWorld\n"
     ]
    }
   ],
   "source": [
    "# Raw string (ignores escape sequences)\n",
    "print(r'Hello\\nWorld')"
   ]
  },
  {
   "cell_type": "markdown",
   "id": "80914742",
   "metadata": {},
   "source": [
    "## Binary operators and comparisons"
   ]
  },
  {
   "cell_type": "code",
   "execution_count": 27,
   "id": "9c010a15",
   "metadata": {},
   "outputs": [
    {
     "name": "stdout",
     "output_type": "stream",
     "text": [
      "Addition operation result: False\n",
      "Modulus operation result: True\n"
     ]
    }
   ],
   "source": [
    "# Binary operators - take two operands and perform an operation on them\n",
    "false_equation = (5 + 3) == 10\n",
    "print('Addition operation result:', false_equation)\n",
    "true_modulus = (10 % 3) == 1\n",
    "print('Modulus operation result:', true_modulus)"
   ]
  },
  {
   "cell_type": "code",
   "execution_count": 47,
   "id": "0310a37f",
   "metadata": {},
   "outputs": [
    {
     "name": "stdout",
     "output_type": "stream",
     "text": [
      "Equals result: True\n",
      "Not equals result: True\n"
     ]
    }
   ],
   "source": [
    "# Comparison operators - compare two values\n",
    "is_equal = (5 == 5)\n",
    "print(\"Equals result:\", is_equal)\n",
    "is_not_equal = (5 != 3)\n",
    "print(\"Not equals result:\", is_not_equal)"
   ]
  },
  {
   "cell_type": "markdown",
   "id": "d8937149",
   "metadata": {},
   "source": [
    "## Identity operator"
   ]
  },
  {
   "cell_type": "code",
   "execution_count": 39,
   "id": "cc59f15b",
   "metadata": {},
   "outputs": [
    {
     "name": "stdout",
     "output_type": "stream",
     "text": [
      "The 'is' operator does not compare values, therefore xi is yi: False\n",
      "It compares memory locations, therefore xi is zi: True\n",
      "The copy method creates a new object, therefore xi is wi: False\n"
     ]
    }
   ],
   "source": [
    "xi = [5,6,9]\n",
    "yi = [5,6,9]\n",
    "zi = xi\n",
    "wi = xi.copy()\n",
    "print(\"The 'is' operator does not compare values, therefore xi is yi:\", xi is yi)\n",
    "print(\"It compares memory locations, therefore xi is zi:\", xi is zi)\n",
    "print(\"The copy method creates a new object, therefore xi is wi:\", xi is wi)\n"
   ]
  },
  {
   "cell_type": "code",
   "execution_count": 46,
   "id": "33b206e1",
   "metadata": {},
   "outputs": [
    {
     "name": "stdout",
     "output_type": "stream",
     "text": [
      "When variable ai is modified, variable bi is also affected: [1, 2, 3, 4]\n"
     ]
    }
   ],
   "source": [
    "ai = [1,2,3]\n",
    "bi = ai\n",
    "ai.append(4)\n",
    "print('When variable ai is modified, variable bi is also affected:', bi)"
   ]
  },
  {
   "cell_type": "code",
   "execution_count": 45,
   "id": "0c548b49",
   "metadata": {},
   "outputs": [
    {
     "name": "stdout",
     "output_type": "stream",
     "text": [
      "None is a singleton object, therfore an is bn: True\n"
     ]
    }
   ],
   "source": [
    "# Python creates exactly one instance of None in memory when the interpreter starts\n",
    "an = None\n",
    "bn = None\n",
    "print('None is a singleton object, therfore an is bn:', an is bn)"
   ]
  },
  {
   "cell_type": "markdown",
   "id": "63ba3a54",
   "metadata": {},
   "source": [
    "## Escape sequences"
   ]
  },
  {
   "cell_type": "code",
   "execution_count": 57,
   "id": "77729f91",
   "metadata": {},
   "outputs": [
    {
     "name": "stdout",
     "output_type": "stream",
     "text": [
      "\tEscape sequence\t\tMeaning\n",
      "\t\t \\n \t\tNew line\n",
      "\t\t \\t \t\tTab\n",
      "\t\t \\uXXXX \t\tUnicode hex value\n",
      "For example, the Greek letter α is \\u03B1\n"
     ]
    }
   ],
   "source": [
    "print('\\tEscape sequence\\t\\tMeaning')\n",
    "print('\\t\\t', r'\\n', '\\t\\tNew line')\n",
    "print('\\t\\t', r'\\t', '\\t\\tTab')\n",
    "print('\\t\\t', r'\\uXXXX', '\\t\\tUnicode hex value')\n",
    "print('For example, the Greek letter \\u03B1 is', r'\\u03B1')"
   ]
  },
  {
   "cell_type": "code",
   "execution_count": 58,
   "id": "28ed148c",
   "metadata": {},
   "outputs": [
    {
     "name": "stdout",
     "output_type": "stream",
     "text": [
      "Number: 1\n",
      "Number: 2\n",
      "Number: 3\n",
      "Number: 4\n"
     ]
    }
   ],
   "source": [
    "for num in range(1,5):\n",
    "    print('Number:', num)"
   ]
  },
  {
   "cell_type": "code",
   "execution_count": 62,
   "id": "67063a8a",
   "metadata": {},
   "outputs": [
    {
     "name": "stdout",
     "output_type": "stream",
     "text": [
      "['a', 'b', 'c', 'd', 'd', 'e']\n"
     ]
    }
   ],
   "source": [
    "a = ['a', 'b', 'c']\n",
    "a += ['d', 'e']\n",
    "a[-1:] = ['d', 'e']\n",
    "print(a)"
   ]
  },
  {
   "cell_type": "code",
   "execution_count": 64,
   "id": "02424c8f",
   "metadata": {},
   "outputs": [
    {
     "ename": "SyntaxError",
     "evalue": "invalid syntax (2524517616.py, line 1)",
     "output_type": "error",
     "traceback": [
      "  \u001b[36mCell\u001b[39m\u001b[36m \u001b[39m\u001b[32mIn[64]\u001b[39m\u001b[32m, line 1\u001b[39m\n\u001b[31m    \u001b[39m\u001b[31mfunc = lambda x: return x\u001b[39m\n                     ^\n\u001b[31mSyntaxError\u001b[39m\u001b[31m:\u001b[39m invalid syntax\n"
     ]
    }
   ],
   "source": [
    "func = lambda x: return x\n",
    "print(func(2))"
   ]
  },
  {
   "cell_type": "code",
   "execution_count": 68,
   "id": "92b4865f",
   "metadata": {},
   "outputs": [
    {
     "ename": "IndentationError",
     "evalue": "expected an indented block after 'if' statement on line 1 (3023700929.py, line 2)",
     "output_type": "error",
     "traceback": [
      "  \u001b[36mCell\u001b[39m\u001b[36m \u001b[39m\u001b[32mIn[68]\u001b[39m\u001b[32m, line 2\u001b[39m\n\u001b[31m    \u001b[39m\u001b[31mprint('Tuple (1,2) is considered True in a boolean context')\u001b[39m\n    ^\n\u001b[31mIndentationError\u001b[39m\u001b[31m:\u001b[39m expected an indented block after 'if' statement on line 1\n"
     ]
    }
   ],
   "source": [
    "if (1,2):\n",
    "print('Tuple (1,2) is considered True in a boolean context')"
   ]
  },
  {
   "cell_type": "code",
   "execution_count": 70,
   "id": "60b024cd",
   "metadata": {},
   "outputs": [
    {
     "name": "stdout",
     "output_type": "stream",
     "text": [
      "[2]\n",
      "[1, 2, 3]\n",
      "[2, 3]\n",
      "[1, 3]\n"
     ]
    }
   ],
   "source": [
    "numbers = [1,2,3]\n",
    "\n",
    "print(list(filter(lambda x: (x + 1) * 3 / 3 % 3 == 0, numbers)))\n",
    "\n",
    "print(list(filter(lambda x: 2, numbers)))\n",
    "\n",
    "print(list(filter(lambda x: x > 1, numbers)))\n",
    "\n",
    "print(list(filter(lambda x: x % 2 == 1, numbers)))"
   ]
  },
  {
   "cell_type": "code",
   "execution_count": 71,
   "id": "8fe95a64",
   "metadata": {},
   "outputs": [
    {
     "data": {
      "text/plain": [
       "15.0"
      ]
     },
     "execution_count": 71,
     "metadata": {},
     "output_type": "execute_result"
    }
   ],
   "source": [
    "(lambda x: (x+3) *5/2)(3)"
   ]
  },
  {
   "cell_type": "code",
   "execution_count": 73,
   "id": "1c896f2f",
   "metadata": {},
   "outputs": [
    {
     "ename": "KeyError",
     "evalue": "slice('bar', 'baz', None)",
     "output_type": "error",
     "traceback": [
      "\u001b[31m---------------------------------------------------------------------------\u001b[39m",
      "\u001b[31mKeyError\u001b[39m                                  Traceback (most recent call last)",
      "\u001b[36mCell\u001b[39m\u001b[36m \u001b[39m\u001b[32mIn[73]\u001b[39m\u001b[32m, line 2\u001b[39m\n\u001b[32m      1\u001b[39m d = {\u001b[33m'\u001b[39m\u001b[33mfoo\u001b[39m\u001b[33m'\u001b[39m: \u001b[32m100\u001b[39m, \u001b[33m'\u001b[39m\u001b[33mbar\u001b[39m\u001b[33m'\u001b[39m: \u001b[32m200\u001b[39m, \u001b[33m'\u001b[39m\u001b[33mbaz\u001b[39m\u001b[33m'\u001b[39m:\u001b[32m300\u001b[39m}\n\u001b[32m----> \u001b[39m\u001b[32m2\u001b[39m \u001b[43md\u001b[49m\u001b[43m[\u001b[49m\u001b[33;43m'\u001b[39;49m\u001b[33;43mbar\u001b[39;49m\u001b[33;43m'\u001b[39;49m\u001b[43m:\u001b[49m\u001b[33;43m'\u001b[39;49m\u001b[33;43mbaz\u001b[39;49m\u001b[33;43m'\u001b[39;49m\u001b[43m]\u001b[49m\n",
      "\u001b[31mKeyError\u001b[39m: slice('bar', 'baz', None)"
     ]
    }
   ],
   "source": [
    "d = {'foo': 100, 'bar': 200, 'baz':300}\n",
    "d['bar':'baz']"
   ]
  },
  {
   "cell_type": "code",
   "execution_count": 75,
   "id": "9442aa81",
   "metadata": {},
   "outputs": [
    {
     "name": "stdout",
     "output_type": "stream",
     "text": [
      "False\n"
     ]
    }
   ],
   "source": [
    "a = ['foo', 'bar', 'baz']\n",
    "print(a[:] is a)"
   ]
  },
  {
   "cell_type": "code",
   "execution_count": 76,
   "id": "b0c98fbf",
   "metadata": {},
   "outputs": [
    {
     "name": "stdout",
     "output_type": "stream",
     "text": [
      "True\n"
     ]
    }
   ],
   "source": [
    "print(\"\" in \"Hello World!\")"
   ]
  },
  {
   "cell_type": "code",
   "execution_count": 77,
   "id": "3097e74c",
   "metadata": {},
   "outputs": [
    {
     "name": "stdout",
     "output_type": "stream",
     "text": [
      "1\n",
      "2\n",
      "4\n"
     ]
    }
   ],
   "source": [
    "if 'bar' in {'foo': 1, 'bar': 2, 'baz':3}:\n",
    "    print(1)\n",
    "    print(2)\n",
    "    if 'a' in 'qux':\n",
    "        print(3)\n",
    "print(4)"
   ]
  },
  {
   "cell_type": "code",
   "execution_count": 78,
   "id": "94236121",
   "metadata": {},
   "outputs": [
    {
     "name": "stdout",
     "output_type": "stream",
     "text": [
      "1\n",
      "2\n",
      "3\n",
      "4\n"
     ]
    }
   ],
   "source": [
    "for num in range(1,5):\n",
    "    print(num)"
   ]
  },
  {
   "cell_type": "code",
   "execution_count": 82,
   "id": "df49c460",
   "metadata": {},
   "outputs": [
    {
     "data": {
      "text/plain": [
       "True"
      ]
     },
     "execution_count": 82,
     "metadata": {},
     "output_type": "execute_result"
    }
   ],
   "source": [
    "x = [1,2,{'foo':1,'bar':{'x':10,'y':20,'z':30}}]\n",
    "'z' in x[2]['bar']"
   ]
  },
  {
   "cell_type": "code",
   "execution_count": 83,
   "id": "819872b6",
   "metadata": {},
   "outputs": [
    {
     "data": {
      "text/plain": [
       "{'a', 'b', 'c'}"
      ]
     },
     "execution_count": 83,
     "metadata": {},
     "output_type": "execute_result"
    }
   ],
   "source": [
    "set('abc')"
   ]
  },
  {
   "cell_type": "code",
   "execution_count": 84,
   "id": "ab3bfced",
   "metadata": {},
   "outputs": [
    {
     "name": "stdout",
     "output_type": "stream",
     "text": [
      "False\n"
     ]
    }
   ],
   "source": [
    "print(bool([]))"
   ]
  },
  {
   "cell_type": "code",
   "execution_count": 86,
   "id": "99d1a54c",
   "metadata": {},
   "outputs": [
    {
     "name": "stdout",
     "output_type": "stream",
     "text": [
      "True\n"
     ]
    }
   ],
   "source": [
    "print(bool('None'))"
   ]
  },
  {
   "cell_type": "code",
   "execution_count": 88,
   "id": "7343d6e1",
   "metadata": {},
   "outputs": [
    {
     "name": "stdout",
     "output_type": "stream",
     "text": [
      "5 -5\n"
     ]
    }
   ],
   "source": [
    "x = 5\n",
    "y = -5\n",
    "x,y = (y,x)[::-1]\n",
    "print(x,y)"
   ]
  },
  {
   "cell_type": "code",
   "execution_count": 94,
   "id": "3abc3cff",
   "metadata": {},
   "outputs": [
    {
     "name": "stdout",
     "output_type": "stream",
     "text": [
      "False\n"
     ]
    }
   ],
   "source": [
    "from math import sqrt\n",
    "x = -100\n",
    "print(x > 0 and sqrt(x))\n"
   ]
  },
  {
   "cell_type": "code",
   "execution_count": 97,
   "id": "de814c6a",
   "metadata": {},
   "outputs": [
    {
     "name": "stdout",
     "output_type": "stream",
     "text": [
      "['a', 'b', 'd', 'e']\n"
     ]
    }
   ],
   "source": [
    "a = ['a', 'b', 'c']\n",
    "a[-1:] = ['d', 'e']\n",
    "print(a)"
   ]
  },
  {
   "cell_type": "code",
   "execution_count": null,
   "id": "6019e352",
   "metadata": {},
   "outputs": [],
   "source": [
    "values = [\"a\",\"b\"]\n",
    "enumerate(values)"
   ]
  }
 ],
 "metadata": {
  "kernelspec": {
   "display_name": "base",
   "language": "python",
   "name": "python3"
  },
  "language_info": {
   "codemirror_mode": {
    "name": "ipython",
    "version": 3
   },
   "file_extension": ".py",
   "mimetype": "text/x-python",
   "name": "python",
   "nbconvert_exporter": "python",
   "pygments_lexer": "ipython3",
   "version": "3.13.5"
  }
 },
 "nbformat": 4,
 "nbformat_minor": 5
}
