{
 "cells": [
  {
   "cell_type": "markdown",
   "id": "2dc558ff",
   "metadata": {},
   "source": [
    "# Quiz 1 Preparation"
   ]
  },
  {
   "cell_type": "markdown",
   "id": "8614513b",
   "metadata": {},
   "source": [
    "## Variable types"
   ]
  },
  {
   "cell_type": "code",
   "execution_count": 2,
   "id": "eb231250",
   "metadata": {},
   "outputs": [
    {
     "name": "stdout",
     "output_type": "stream",
     "text": [
      "<class 'int'>\n"
     ]
    }
   ],
   "source": [
    "# Integer type - whole numbers\n",
    "x = 5\n",
    "print(type(x))"
   ]
  },
  {
   "cell_type": "code",
   "execution_count": 3,
   "id": "e162f3b5",
   "metadata": {},
   "outputs": [
    {
     "name": "stdout",
     "output_type": "stream",
     "text": [
      "<class 'float'>\n"
     ]
    }
   ],
   "source": [
    "# Floating point type (float) - decimal numbers\n",
    "y= 5.5\n",
    "print(type(y))"
   ]
  },
  {
   "cell_type": "code",
   "execution_count": 4,
   "id": "c071cfb9",
   "metadata": {},
   "outputs": [
    {
     "name": "stdout",
     "output_type": "stream",
     "text": [
      "<class 'str'>\n"
     ]
    }
   ],
   "source": [
    "# String type - text\n",
    "name = \"Bryan\"\n",
    "print(type(name))"
   ]
  },
  {
   "cell_type": "code",
   "execution_count": 5,
   "id": "c564c524",
   "metadata": {},
   "outputs": [
    {
     "name": "stdout",
     "output_type": "stream",
     "text": [
      "<class 'bool'>\n"
     ]
    }
   ],
   "source": [
    "# Boolean type - True or False\n",
    "is_student = True\n",
    "print(type(is_student))"
   ]
  },
  {
   "cell_type": "code",
   "execution_count": null,
   "id": "75fe65a0",
   "metadata": {},
   "outputs": [
    {
     "name": "stdout",
     "output_type": "stream",
     "text": [
      "<class 'list'>\n"
     ]
    }
   ],
   "source": [
    "# List type - ordered collection of items\n",
    "fruits = [\"apple\", \"banana\", \"cherry\", \"apple\", \"banana\"]\n",
    "print(type(fruits))"
   ]
  },
  {
   "cell_type": "code",
   "execution_count": 7,
   "id": "c60a5e7d",
   "metadata": {},
   "outputs": [
    {
     "name": "stdout",
     "output_type": "stream",
     "text": [
      "<class 'dict'>\n"
     ]
    }
   ],
   "source": [
    "#  Dictionary type - key-value pairs\n",
    "person = {\"name\": \"Alice\", \"age\": 30}\n",
    "print(type(person))"
   ]
  },
  {
   "cell_type": "code",
   "execution_count": null,
   "id": "27fa191b",
   "metadata": {},
   "outputs": [
    {
     "name": "stdout",
     "output_type": "stream",
     "text": [
      "<class 'set'>\n",
      "List with duplicates: ['apple', 'banana', 'cherry']\n",
      "Set from list:  {'banana', 'apple', 'cherry'}\n"
     ]
    }
   ],
   "source": [
    "# Set type - unordered collection of unique items\n",
    "unique_numbers = {1, 2, 3, 4, 5}\n",
    "print(type(unique_numbers))\n",
    "print('List with duplicates:', fruits)\n",
    "print('Set from list: ', set(fruits))"
   ]
  },
  {
   "cell_type": "code",
   "execution_count": 9,
   "id": "63294799",
   "metadata": {},
   "outputs": [
    {
     "name": "stdout",
     "output_type": "stream",
     "text": [
      "<class 'NoneType'>\n"
     ]
    }
   ],
   "source": [
    "# None type - represents the absence of a value\n",
    "nothing = None\n",
    "print(type(nothing))"
   ]
  },
  {
   "cell_type": "markdown",
   "id": "800f91c7",
   "metadata": {},
   "source": [
    "## Strings"
   ]
  },
  {
   "cell_type": "code",
   "execution_count": null,
   "id": "fab661fe",
   "metadata": {},
   "outputs": [
    {
     "name": "stdout",
     "output_type": "stream",
     "text": [
      "This is a multi-line string.\n",
      "It can span multiple lines and include both 'single' and \"double\" quotes.\n"
     ]
    }
   ],
   "source": [
    "# Use triple quotes for multi-line strings or to include both single and double quotes\n",
    "multi_line_string = \"\"\"This is a multi-line string.\n",
    "It can span multiple lines and include both 'single' and \"double\" quotes.\"\"\"\n",
    "print(multi_line_string)"
   ]
  },
  {
   "cell_type": "code",
   "execution_count": null,
   "id": "1924077a",
   "metadata": {},
   "outputs": [
    {
     "name": "stdout",
     "output_type": "stream",
     "text": [
      "First character: A\n",
      "Last character: Z\n",
      "Every other character starting from index 0: \n"
     ]
    }
   ],
   "source": [
    "# Indexing and slicing\n",
    "sample_string = \"ABCDEFGHIJKLMNOPQRSTUVWXYZ\"\n",
    "print('First character: {0}'.format(sample_string[0]))\n",
    "print('Last character: {0}'.format(sample_string[-1]))\n",
    "print(f'Every other character starting from index 0: {sample_string[0:0:2]}')\n"
   ]
  },
  {
   "cell_type": "code",
   "execution_count": null,
   "id": "38720ef4",
   "metadata": {},
   "outputs": [],
   "source": []
  }
 ],
 "metadata": {
  "kernelspec": {
   "display_name": "base",
   "language": "python",
   "name": "python3"
  },
  "language_info": {
   "codemirror_mode": {
    "name": "ipython",
    "version": 3
   },
   "file_extension": ".py",
   "mimetype": "text/x-python",
   "name": "python",
   "nbconvert_exporter": "python",
   "pygments_lexer": "ipython3",
   "version": "3.13.5"
  }
 },
 "nbformat": 4,
 "nbformat_minor": 5
}
