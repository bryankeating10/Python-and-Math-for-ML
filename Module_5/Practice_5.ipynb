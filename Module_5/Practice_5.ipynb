{
 "cells": [
  {
   "cell_type": "markdown",
   "id": "7f58c28d",
   "metadata": {},
   "source": [
    "# **Practice 5 - Data Cleaning and Preparation**"
   ]
  },
  {
   "cell_type": "markdown",
   "id": "d590ec00",
   "metadata": {},
   "source": [
    "## Handling missing data\n",
    "For numeric data, pandas uses value NaN. It is called a Sentinel value and can be easily detected."
   ]
  },
  {
   "cell_type": "code",
   "execution_count": 31,
   "id": "7b886e2d",
   "metadata": {},
   "outputs": [
    {
     "data": {
      "text/plain": [
       "0      a\n",
       "1      b\n",
       "2    NaN\n",
       "3      d\n",
       "dtype: object"
      ]
     },
     "execution_count": 31,
     "metadata": {},
     "output_type": "execute_result"
    }
   ],
   "source": [
    "import pandas as pd\n",
    "import numpy as np\n",
    "\n",
    "string_data = pd.Series(['a','b',np.nan,'d'])\n",
    "string_data"
   ]
  },
  {
   "cell_type": "code",
   "execution_count": 32,
   "id": "f16abb8f",
   "metadata": {},
   "outputs": [
    {
     "name": "stdout",
     "output_type": "stream",
     "text": [
      "0    False\n",
      "1    False\n",
      "2     True\n",
      "3    False\n",
      "dtype: bool\n",
      "\n",
      "NaN values: 1\n"
     ]
    }
   ],
   "source": [
    "print(string_data.isnull())\n",
    "print(f'\\nNaN values: {sum(string_data.isnull())}')"
   ]
  },
  {
   "cell_type": "code",
   "execution_count": 33,
   "id": "6384c1c3",
   "metadata": {},
   "outputs": [
    {
     "name": "stdout",
     "output_type": "stream",
     "text": [
      "   Apples  Inches\n",
      "0    10.0     1.5\n",
      "1    20.0     2.7\n",
      "2    30.0     3.6\n",
      "3     NaN     4.2\n",
      "4     NaN     5.9\n",
      "5     NaN     NaN\n"
     ]
    },
    {
     "data": {
      "text/html": [
       "<div>\n",
       "<style scoped>\n",
       "    .dataframe tbody tr th:only-of-type {\n",
       "        vertical-align: middle;\n",
       "    }\n",
       "\n",
       "    .dataframe tbody tr th {\n",
       "        vertical-align: top;\n",
       "    }\n",
       "\n",
       "    .dataframe thead th {\n",
       "        text-align: right;\n",
       "    }\n",
       "</style>\n",
       "<table border=\"1\" class=\"dataframe\">\n",
       "  <thead>\n",
       "    <tr style=\"text-align: right;\">\n",
       "      <th></th>\n",
       "      <th>Apples</th>\n",
       "      <th>Inches</th>\n",
       "      <th>Colors</th>\n",
       "    </tr>\n",
       "  </thead>\n",
       "  <tbody>\n",
       "    <tr>\n",
       "      <th>0</th>\n",
       "      <td>10.0</td>\n",
       "      <td>1.5</td>\n",
       "      <td>red</td>\n",
       "    </tr>\n",
       "    <tr>\n",
       "      <th>1</th>\n",
       "      <td>20.0</td>\n",
       "      <td>2.7</td>\n",
       "      <td>blue</td>\n",
       "    </tr>\n",
       "    <tr>\n",
       "      <th>2</th>\n",
       "      <td>30.0</td>\n",
       "      <td>3.6</td>\n",
       "      <td>green</td>\n",
       "    </tr>\n",
       "    <tr>\n",
       "      <th>3</th>\n",
       "      <td>NaN</td>\n",
       "      <td>4.2</td>\n",
       "      <td>yellow</td>\n",
       "    </tr>\n",
       "    <tr>\n",
       "      <th>4</th>\n",
       "      <td>NaN</td>\n",
       "      <td>5.9</td>\n",
       "      <td>orange</td>\n",
       "    </tr>\n",
       "    <tr>\n",
       "      <th>5</th>\n",
       "      <td>NaN</td>\n",
       "      <td>NaN</td>\n",
       "      <td>purple</td>\n",
       "    </tr>\n",
       "  </tbody>\n",
       "</table>\n",
       "</div>"
      ],
      "text/plain": [
       "   Apples  Inches  Colors\n",
       "0    10.0     1.5     red\n",
       "1    20.0     2.7    blue\n",
       "2    30.0     3.6   green\n",
       "3     NaN     4.2  yellow\n",
       "4     NaN     5.9  orange\n",
       "5     NaN     NaN  purple"
      ]
     },
     "execution_count": 33,
     "metadata": {},
     "output_type": "execute_result"
    }
   ],
   "source": [
    "# Creating datafram from Series\n",
    "s1 = pd.Series([10, 20, 30], name=\"Apples\")\n",
    "s2 = pd.Series([1.5, 2.7, 3.6, 4.2, 5.9], name=\"Inches\")\n",
    "s3 = pd.Series([\"red\", \"blue\", \"green\", \"yellow\", \"orange\", \"purple\"], name=\"Colors\")\n",
    "df_a = pd.DataFrame([s1,s2]).T\n",
    "df_a = df_a.reindex(range(len(s3)))\n",
    "print(df_a)\n",
    "df_a[s3.name] = s3\n",
    "df_a"
   ]
  },
  {
   "cell_type": "markdown",
   "id": "3d94ee52",
   "metadata": {},
   "source": [
    "## Displaying dataframes in Jupyter Notebook"
   ]
  },
  {
   "cell_type": "markdown",
   "id": "0e267f4b",
   "metadata": {},
   "source": [
    "* Typing just `df_a` (as the last line of a cell) triggers Jupyter’s rich display system, which renders DataFrames as nice HTML tables.\n",
    "* Using `print(df_a)` instead calls the plain text representation, which is less formatted.\n",
    "* Using `display()` gives you the same rich HTML table as typing `df_a` by itself"
   ]
  },
  {
   "cell_type": "code",
   "execution_count": null,
   "id": "e42728dc",
   "metadata": {},
   "outputs": [
    {
     "data": {
      "text/html": [
       "<div>\n",
       "<style scoped>\n",
       "    .dataframe tbody tr th:only-of-type {\n",
       "        vertical-align: middle;\n",
       "    }\n",
       "\n",
       "    .dataframe tbody tr th {\n",
       "        vertical-align: top;\n",
       "    }\n",
       "\n",
       "    .dataframe thead th {\n",
       "        text-align: right;\n",
       "    }\n",
       "</style>\n",
       "<table border=\"1\" class=\"dataframe\">\n",
       "  <thead>\n",
       "    <tr style=\"text-align: right;\">\n",
       "      <th></th>\n",
       "      <th>Apples</th>\n",
       "      <th>Inches</th>\n",
       "      <th>Colors</th>\n",
       "    </tr>\n",
       "  </thead>\n",
       "  <tbody>\n",
       "    <tr>\n",
       "      <th>0</th>\n",
       "      <td>10.0</td>\n",
       "      <td>1.5</td>\n",
       "      <td>red</td>\n",
       "    </tr>\n",
       "    <tr>\n",
       "      <th>1</th>\n",
       "      <td>20.0</td>\n",
       "      <td>2.7</td>\n",
       "      <td>blue</td>\n",
       "    </tr>\n",
       "    <tr>\n",
       "      <th>2</th>\n",
       "      <td>30.0</td>\n",
       "      <td>3.6</td>\n",
       "      <td>green</td>\n",
       "    </tr>\n",
       "    <tr>\n",
       "      <th>3</th>\n",
       "      <td>NaN</td>\n",
       "      <td>4.2</td>\n",
       "      <td>yellow</td>\n",
       "    </tr>\n",
       "    <tr>\n",
       "      <th>4</th>\n",
       "      <td>NaN</td>\n",
       "      <td>5.9</td>\n",
       "      <td>orange</td>\n",
       "    </tr>\n",
       "    <tr>\n",
       "      <th>5</th>\n",
       "      <td>NaN</td>\n",
       "      <td>NaN</td>\n",
       "      <td>purple</td>\n",
       "    </tr>\n",
       "  </tbody>\n",
       "</table>\n",
       "</div>"
      ],
      "text/plain": [
       "   Apples  Inches  Colors\n",
       "0    10.0     1.5     red\n",
       "1    20.0     2.7    blue\n",
       "2    30.0     3.6   green\n",
       "3     NaN     4.2  yellow\n",
       "4     NaN     5.9  orange\n",
       "5     NaN     NaN  purple"
      ]
     },
     "metadata": {},
     "output_type": "display_data"
    },
    {
     "data": {
      "text/html": [
       "<div>\n",
       "<style scoped>\n",
       "    .dataframe tbody tr th:only-of-type {\n",
       "        vertical-align: middle;\n",
       "    }\n",
       "\n",
       "    .dataframe tbody tr th {\n",
       "        vertical-align: top;\n",
       "    }\n",
       "\n",
       "    .dataframe thead th {\n",
       "        text-align: right;\n",
       "    }\n",
       "</style>\n",
       "<table border=\"1\" class=\"dataframe\">\n",
       "  <thead>\n",
       "    <tr style=\"text-align: right;\">\n",
       "      <th></th>\n",
       "      <th>Apples</th>\n",
       "      <th>Inches</th>\n",
       "      <th>Colors</th>\n",
       "      <th>Beaches</th>\n",
       "    </tr>\n",
       "  </thead>\n",
       "  <tbody>\n",
       "    <tr>\n",
       "      <th>0</th>\n",
       "      <td>10.0</td>\n",
       "      <td>1.5</td>\n",
       "      <td>red</td>\n",
       "      <td>Bondi</td>\n",
       "    </tr>\n",
       "    <tr>\n",
       "      <th>1</th>\n",
       "      <td>20.0</td>\n",
       "      <td>2.7</td>\n",
       "      <td>blue</td>\n",
       "      <td>Copacabana</td>\n",
       "    </tr>\n",
       "    <tr>\n",
       "      <th>2</th>\n",
       "      <td>30.0</td>\n",
       "      <td>3.6</td>\n",
       "      <td>green</td>\n",
       "      <td>Waikiki</td>\n",
       "    </tr>\n",
       "    <tr>\n",
       "      <th>3</th>\n",
       "      <td>NaN</td>\n",
       "      <td>4.2</td>\n",
       "      <td>yellow</td>\n",
       "      <td>Malibu</td>\n",
       "    </tr>\n",
       "    <tr>\n",
       "      <th>4</th>\n",
       "      <td>NaN</td>\n",
       "      <td>5.9</td>\n",
       "      <td>orange</td>\n",
       "      <td>Santorini</td>\n",
       "    </tr>\n",
       "    <tr>\n",
       "      <th>5</th>\n",
       "      <td>NaN</td>\n",
       "      <td>NaN</td>\n",
       "      <td>purple</td>\n",
       "      <td>Maui</td>\n",
       "    </tr>\n",
       "    <tr>\n",
       "      <th>6</th>\n",
       "      <td>NaN</td>\n",
       "      <td>NaN</td>\n",
       "      <td>NaN</td>\n",
       "      <td>Ipanema</td>\n",
       "    </tr>\n",
       "    <tr>\n",
       "      <th>7</th>\n",
       "      <td>NaN</td>\n",
       "      <td>NaN</td>\n",
       "      <td>NaN</td>\n",
       "      <td>Cancun</td>\n",
       "    </tr>\n",
       "  </tbody>\n",
       "</table>\n",
       "</div>"
      ],
      "text/plain": [
       "   Apples  Inches  Colors     Beaches\n",
       "0    10.0     1.5     red       Bondi\n",
       "1    20.0     2.7    blue  Copacabana\n",
       "2    30.0     3.6   green     Waikiki\n",
       "3     NaN     4.2  yellow      Malibu\n",
       "4     NaN     5.9  orange   Santorini\n",
       "5     NaN     NaN  purple        Maui\n",
       "6     NaN     NaN     NaN     Ipanema\n",
       "7     NaN     NaN     NaN      Cancun"
      ]
     },
     "metadata": {},
     "output_type": "display_data"
    },
    {
     "ename": "",
     "evalue": "",
     "output_type": "error",
     "traceback": [
      "\u001b[1;31mThe Kernel crashed while executing code in the current cell or a previous cell. \n",
      "\u001b[1;31mPlease review the code in the cell(s) to identify a possible cause of the failure. \n",
      "\u001b[1;31mClick <a href='https://aka.ms/vscodeJupyterKernelCrash'>here</a> for more info. \n",
      "\u001b[1;31mView Jupyter <a href='command:jupyter.viewOutput'>log</a> for further details."
     ]
    }
   ],
   "source": [
    "from IPython.display import display\n",
    "display(df_a)\n",
    "s4 = pd.Series(\n",
    "    [\"Bondi\", \"Copacabana\", \"Waikiki\", \"Malibu\", \n",
    "    \"Santorini\", \"Maui\", \"Ipanema\", \"Cancun\"],\n",
    "    name=\"Beaches\")\n",
    "df_a = df_a.reindex(range(len(s4)))\n",
    "df_a[s4.name] = s4\n",
    "display(df_a)\n"
   ]
  },
  {
   "cell_type": "code",
   "execution_count": null,
   "id": "a7a669c6",
   "metadata": {},
   "outputs": [],
   "source": []
  }
 ],
 "metadata": {
  "kernelspec": {
   "display_name": "base",
   "language": "python",
   "name": "python3"
  },
  "language_info": {
   "codemirror_mode": {
    "name": "ipython",
    "version": 3
   },
   "file_extension": ".py",
   "mimetype": "text/x-python",
   "name": "python",
   "nbconvert_exporter": "python",
   "pygments_lexer": "ipython3",
   "version": "3.13.5"
  }
 },
 "nbformat": 4,
 "nbformat_minor": 5
}
