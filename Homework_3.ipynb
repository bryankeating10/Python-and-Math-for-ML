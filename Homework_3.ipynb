{
 "cells": [
  {
   "cell_type": "markdown",
   "id": "3e72597d",
   "metadata": {},
   "source": [
    "# Homework 3"
   ]
  },
  {
   "cell_type": "markdown",
   "id": "274ab2ae",
   "metadata": {},
   "source": [
    "## Problem 1 NumPy myPi(n) comparison"
   ]
  },
  {
   "cell_type": "code",
   "execution_count": 2,
   "id": "a3586897",
   "metadata": {},
   "outputs": [],
   "source": [
    "# Last week's function\n",
    "def myPi(n):\n",
    "    if n < 0:\n",
    "        raise ValueError(\"Input must be non-negative.\")\n",
    "    elif n == 0:\n",
    "        raise ValueError(\"Input must be positive.\")\n",
    "    else:\n",
    "        pi = 0\n",
    "        for k in range(1,n+1):\n",
    "            pi += (-1)**(k+1) / (2*k - 1)\n",
    "        return 4*pi\n",
    "\n",
    "# NumPy rendition\n",
    "import numpy as np\n",
    "def numpyPi(n):\n",
    "    if n < 0:\n",
    "        raise ValueError(\"Input must be non-negative.\")\n",
    "    elif n == 0:\n",
    "        raise ValueError(\"Input must be positive.\")\n",
    "    else:\n",
    "        k = np.arange(1, n+1)\n",
    "        pi = np.sum((-1)**(k+1) / (2*k - 1))\n",
    "        return 4*pi"
   ]
  },
  {
   "cell_type": "code",
   "execution_count": 9,
   "id": "c262bc29",
   "metadata": {},
   "outputs": [
    {
     "name": "stdout",
     "output_type": "stream",
     "text": [
      "myPi: 3.0418396189294032\n",
      "numpyPi: 3.0418396189294024\n"
     ]
    }
   ],
   "source": [
    "# Test both functions\n",
    "n = 10\n",
    "print(\"myPi:\", myPi(n))\n",
    "print(\"numpyPi:\", numpyPi(n))"
   ]
  },
  {
   "cell_type": "markdown",
   "id": "6b935cc4",
   "metadata": {},
   "source": [
    "n = 1000\n",
    "print(\"myPi:\", myPi(n))\n",
    "print(\"numpyPi:\", numpyPi(n))"
   ]
  },
  {
   "cell_type": "code",
   "execution_count": null,
   "id": "3102c00a",
   "metadata": {},
   "outputs": [
    {
     "name": "stdout",
     "output_type": "stream",
     "text": [
      "myPi: 3.1415826535897198\n",
      "numpyPi: 3.141582653589792\n",
      "37.9 ms ± 5.68 ms per loop (mean ± std. dev. of 7 runs, 10 loops each)\n",
      "5.69 ms ± 1.74 ms per loop (mean ± std. dev. of 7 runs, 100 loops each)\n",
      "myPi average time: 0.03792884285628263\n",
      "numpyPi average time: 0.005686825428482345\n",
      "NumPy version is 6.67 times faster than myPi.\n"
     ]
    }
   ],
   "source": [
    "# Compare times\n",
    "myPi_time = %timeit -o myPi(n)\n",
    "numpyPi_time = %timeit -o numpyPi(n)\n",
    "\n",
    "print(\"myPi average time:\", myPi_time.average)\n",
    "print(\"numpyPi average time:\", numpyPi_time.average)\n",
    "print(\"NumPy version is\", round(myPi_time.average / numpyPi_time.average,2), \"times faster than myPi.\")"
   ]
  },
  {
   "cell_type": "code",
   "execution_count": null,
   "id": "731b094e",
   "metadata": {},
   "outputs": [],
   "source": []
  }
 ],
 "metadata": {
  "kernelspec": {
   "display_name": "base",
   "language": "python",
   "name": "python3"
  },
  "language_info": {
   "codemirror_mode": {
    "name": "ipython",
    "version": 3
   },
   "file_extension": ".py",
   "mimetype": "text/x-python",
   "name": "python",
   "nbconvert_exporter": "python",
   "pygments_lexer": "ipython3",
   "version": "3.13.5"
  }
 },
 "nbformat": 4,
 "nbformat_minor": 5
}
