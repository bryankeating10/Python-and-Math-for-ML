{
 "cells": [
  {
   "cell_type": "markdown",
   "id": "e1085fb3",
   "metadata": {},
   "source": [
    "# Practice 4 - Pandas"
   ]
  },
  {
   "cell_type": "code",
   "execution_count": 2,
   "id": "e9a6a8bf",
   "metadata": {},
   "outputs": [],
   "source": [
    "import numpy as np\n",
    "import pandas as pd"
   ]
  },
  {
   "cell_type": "markdown",
   "id": "8c1027dc",
   "metadata": {},
   "source": [
    "A **Series** is a pandas dataframe that incorperates aspects from dictionaries and NumPy arrays to allow for lookups, and data alignment based operations"
   ]
  },
  {
   "cell_type": "code",
   "execution_count": 7,
   "id": "8bed937e",
   "metadata": {},
   "outputs": [
    {
     "name": "stdout",
     "output_type": "stream",
     "text": [
      "Series from dictionary:\n",
      " USA        331002651\n",
      "India     1380004385\n",
      "China     1439323776\n",
      "Brazil     212559417\n",
      "dtype: int64\n"
     ]
    }
   ],
   "source": [
    "# Series from dictionary\n",
    "countries = {'USA': 331002651, 'India': 1380004385, 'China': 1439323776, 'Brazil': 212559417}\n",
    "dict_series = pd.Series(countries)\n",
    "print(\"Series from dictionary:\\n\", dict_series)"
   ]
  },
  {
   "cell_type": "code",
   "execution_count": 14,
   "id": "264beb78",
   "metadata": {},
   "outputs": [
    {
     "name": "stdout",
     "output_type": "stream",
     "text": [
      "Series from two lists:\n",
      " Natural Selection    1859\n",
      "Mutation             1900\n",
      "Genetic Drift        1930\n",
      "Gene Flow            1950\n",
      "dtype: int64\n"
     ]
    }
   ],
   "source": [
    "# Series from two lists\n",
    "evolution = ['Natural Selection', 'Mutation', 'Genetic Drift', 'Gene Flow']\n",
    "years = [1859, 1900, 1930, 1950]\n",
    "list_series = pd.Series(years,evolution)\n",
    "print(f\"Series from two lists:\\n {list_series}\")"
   ]
  },
  {
   "cell_type": "code",
   "execution_count": null,
   "id": "d35b8aee",
   "metadata": {},
   "outputs": [],
   "source": []
  }
 ],
 "metadata": {
  "kernelspec": {
   "display_name": "base",
   "language": "python",
   "name": "python3"
  },
  "language_info": {
   "codemirror_mode": {
    "name": "ipython",
    "version": 3
   },
   "file_extension": ".py",
   "mimetype": "text/x-python",
   "name": "python",
   "nbconvert_exporter": "python",
   "pygments_lexer": "ipython3",
   "version": "3.13.5"
  }
 },
 "nbformat": 4,
 "nbformat_minor": 5
}
