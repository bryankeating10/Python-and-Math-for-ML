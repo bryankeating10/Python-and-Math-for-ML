{
 "cells": [
  {
   "cell_type": "markdown",
   "id": "e1085fb3",
   "metadata": {},
   "source": [
    "# Practice 4 - Pandas"
   ]
  },
  {
   "cell_type": "code",
   "execution_count": 2,
   "id": "e9a6a8bf",
   "metadata": {},
   "outputs": [],
   "source": [
    "import numpy as np\n",
    "import pandas as pd"
   ]
  },
  {
   "cell_type": "markdown",
   "id": "8c1027dc",
   "metadata": {},
   "source": [
    "A **Series** is a pandas dataframe that incorperates aspects from dictionaries and NumPy arrays to allow for lookups, and data alignment based operations"
   ]
  },
  {
   "cell_type": "code",
   "execution_count": 3,
   "id": "8bed937e",
   "metadata": {},
   "outputs": [
    {
     "name": "stdout",
     "output_type": "stream",
     "text": [
      "Series from dictionary:\n",
      " USA        331002651\n",
      "India     1380004385\n",
      "China     1439323776\n",
      "Brazil     212559417\n",
      "dtype: int64\n"
     ]
    }
   ],
   "source": [
    "# Series from dictionary\n",
    "countries = {'USA': 331002651, 'India': 1380004385, 'China': 1439323776, 'Brazil': 212559417}\n",
    "dict_series = pd.Series(countries)\n",
    "print(\"Series from dictionary:\\n\", dict_series)"
   ]
  },
  {
   "cell_type": "code",
   "execution_count": 4,
   "id": "264beb78",
   "metadata": {},
   "outputs": [
    {
     "name": "stdout",
     "output_type": "stream",
     "text": [
      "Series from two lists:\n",
      "Natural Selection    1859\n",
      "Mutation             1900\n",
      "Genetic Drift        1930\n",
      "Gene Flow            1950\n",
      "dtype: int64\n"
     ]
    }
   ],
   "source": [
    "# Series from two lists\n",
    "evolution = ['Natural Selection', 'Mutation', 'Genetic Drift', 'Gene Flow']\n",
    "years = [1859, 1900, 1930, 1950]\n",
    "list_series = pd.Series(years,evolution)\n",
    "print(f\"Series from two lists:\\n{list_series}\")"
   ]
  },
  {
   "cell_type": "code",
   "execution_count": 5,
   "id": "d35b8aee",
   "metadata": {},
   "outputs": [
    {
     "name": "stdout",
     "output_type": "stream",
     "text": [
      "Projected populations after one year:\n",
      " USA       5.627045e+08\n",
      "India     2.760009e+09\n",
      "China     2.158986e+09\n",
      "Brazil    4.038629e+08\n",
      "dtype: float64\n"
     ]
    }
   ],
   "source": [
    "# Element-wise operations\n",
    "growth_rates = pd.Series([0.7, 1.0, 0.5, 0.9], ['USA', 'India', 'China', 'Brazil'])\n",
    "projected_pop = dict_series * (1 + growth_rates)\n",
    "print(\"Projected populations after one year:\\n\", projected_pop)"
   ]
  },
  {
   "cell_type": "code",
   "execution_count": 6,
   "id": "1c411fe3",
   "metadata": {},
   "outputs": [
    {
     "name": "stdout",
     "output_type": "stream",
     "text": [
      "Projected populations with mismatched indices:\n",
      " Brazil    4.038629e+08\n",
      "China     2.158986e+09\n",
      "India     2.760009e+09\n",
      "Russia             NaN\n",
      "USA       5.627045e+08\n",
      "dtype: float64\n"
     ]
    }
   ],
   "source": [
    "# Mismatching indices\n",
    "more_rates = pd.concat([growth_rates, pd.Series([0.8], ['Russia'])])\n",
    "projected_pop_mismatch = dict_series * (1 + more_rates)\n",
    "print(\"Projected populations with mismatched indices:\\n\", projected_pop_mismatch)"
   ]
  },
  {
   "cell_type": "code",
   "execution_count": 7,
   "id": "a126858d",
   "metadata": {},
   "outputs": [
    {
     "name": "stdout",
     "output_type": "stream",
     "text": [
      "Additional data series:\n",
      " A    100\n",
      "B    200\n",
      "C    300\n",
      "dtype: int64\n"
     ]
    }
   ],
   "source": [
    "# Testing gemini autocompletion\n",
    "additional_data = pd.Series([100, 200, 300], index=['A', 'B', 'C'])\n",
    "print(\"Additional data series:\\n\", additional_data)"
   ]
  },
  {
   "cell_type": "code",
   "execution_count": null,
   "id": "f9fffa25",
   "metadata": {},
   "outputs": [],
   "source": [
    "# Without specification of index column\n"
   ]
  },
  {
   "cell_type": "code",
   "execution_count": null,
   "id": "71ffe173",
   "metadata": {},
   "outputs": [],
   "source": []
  }
 ],
 "metadata": {
  "kernelspec": {
   "display_name": "base",
   "language": "python",
   "name": "python3"
  },
  "language_info": {
   "codemirror_mode": {
    "name": "ipython",
    "version": 3
   },
   "file_extension": ".py",
   "mimetype": "text/x-python",
   "name": "python",
   "nbconvert_exporter": "python",
   "pygments_lexer": "ipython3",
   "version": "3.13.5"
  }
 },
 "nbformat": 4,
 "nbformat_minor": 5
}
