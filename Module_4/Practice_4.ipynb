{
 "cells": [
  {
   "cell_type": "markdown",
   "id": "e1085fb3",
   "metadata": {},
   "source": [
    "# Practice 4 - Pandas"
   ]
  },
  {
   "cell_type": "code",
   "execution_count": 2,
   "id": "e9a6a8bf",
   "metadata": {},
   "outputs": [],
   "source": [
    "import numpy as np\n",
    "import pandas as pd"
   ]
  },
  {
   "cell_type": "markdown",
   "id": "8c1027dc",
   "metadata": {},
   "source": [
    "A **Series** is a pandas dataframe that incorperates aspects from dictionaries and NumPy arrays to allow for lookups, and data alignment based operations"
   ]
  },
  {
   "cell_type": "code",
   "execution_count": 3,
   "id": "8bed937e",
   "metadata": {},
   "outputs": [
    {
     "name": "stdout",
     "output_type": "stream",
     "text": [
      "Series from dictionary:\n",
      " USA        331002651\n",
      "India     1380004385\n",
      "China     1439323776\n",
      "Brazil     212559417\n",
      "dtype: int64\n"
     ]
    }
   ],
   "source": [
    "# Series from dictionary\n",
    "countries = {'USA': 331002651, 'India': 1380004385, 'China': 1439323776, 'Brazil': 212559417}\n",
    "dict_series = pd.Series(countries)\n",
    "print(\"Series from dictionary:\\n\", dict_series)"
   ]
  },
  {
   "cell_type": "code",
   "execution_count": 4,
   "id": "264beb78",
   "metadata": {},
   "outputs": [
    {
     "name": "stdout",
     "output_type": "stream",
     "text": [
      "Series from two lists:\n",
      "Natural Selection    1859\n",
      "Mutation             1900\n",
      "Genetic Drift        1930\n",
      "Gene Flow            1950\n",
      "dtype: int64\n"
     ]
    }
   ],
   "source": [
    "# Series from two lists\n",
    "evolution = ['Natural Selection', 'Mutation', 'Genetic Drift', 'Gene Flow']\n",
    "years = [1859, 1900, 1930, 1950]\n",
    "list_series = pd.Series(years,evolution)\n",
    "print(f\"Series from two lists:\\n{list_series}\")"
   ]
  },
  {
   "cell_type": "code",
   "execution_count": 5,
   "id": "d35b8aee",
   "metadata": {},
   "outputs": [
    {
     "name": "stdout",
     "output_type": "stream",
     "text": [
      "Projected populations after one year:\n",
      " USA       5.627045e+08\n",
      "India     2.760009e+09\n",
      "China     2.158986e+09\n",
      "Brazil    4.038629e+08\n",
      "dtype: float64\n"
     ]
    }
   ],
   "source": [
    "# Element-wise operations\n",
    "growth_rates = pd.Series([0.7, 1.0, 0.5, 0.9], ['USA', 'India', 'China', 'Brazil'])\n",
    "projected_pop = dict_series * (1 + growth_rates)\n",
    "print(\"Projected populations after one year:\\n\", projected_pop)"
   ]
  },
  {
   "cell_type": "code",
   "execution_count": 6,
   "id": "1c411fe3",
   "metadata": {},
   "outputs": [
    {
     "name": "stdout",
     "output_type": "stream",
     "text": [
      "Projected populations with mismatched indices:\n",
      " Brazil    4.038629e+08\n",
      "China     2.158986e+09\n",
      "India     2.760009e+09\n",
      "Russia             NaN\n",
      "USA       5.627045e+08\n",
      "dtype: float64\n"
     ]
    }
   ],
   "source": [
    "# Mismatching indices\n",
    "more_rates = pd.concat([growth_rates, pd.Series([0.8], ['Russia'])])\n",
    "projected_pop_mismatch = dict_series * (1 + more_rates)\n",
    "print(\"Projected populations with mismatched indices:\\n\", projected_pop_mismatch)"
   ]
  },
  {
   "cell_type": "code",
   "execution_count": 7,
   "id": "a126858d",
   "metadata": {},
   "outputs": [
    {
     "name": "stdout",
     "output_type": "stream",
     "text": [
      "Additional data series:\n",
      " A    100\n",
      "B    200\n",
      "C    300\n",
      "dtype: int64\n"
     ]
    }
   ],
   "source": [
    "# Testing gemini autocompletion\n",
    "additional_data = pd.Series([100, 200, 300], index=['A', 'B', 'C'])\n",
    "print(\"Additional data series:\\n\", additional_data)"
   ]
  },
  {
   "cell_type": "code",
   "execution_count": 8,
   "id": "f9fffa25",
   "metadata": {},
   "outputs": [
    {
     "name": "stdout",
     "output_type": "stream",
     "text": [
      "0           US\n",
      "1           UK\n",
      "2       Canada\n",
      "3    Australia\n",
      "4      Lebanon\n",
      "dtype: object\n",
      "Automatic indexing starts at 0 and increments by 1 for each value\n",
      "0\tUS\n",
      "1\tUK\n",
      "2\tCanada\n",
      "3\tAustralia\n",
      "4\tLebanon\n"
     ]
    }
   ],
   "source": [
    "# Without specification of index column\n",
    "country_list = pd.Series(['US', 'UK', 'Canada', 'Australia', 'Lebanon'])\n",
    "print(country_list)\n",
    "print('Automatic indexing starts at 0 and increments by 1 for each value')\n",
    "for idx, val in country_list.items():\n",
    "    print(\"{0}\\t{1}\".format(idx,val))"
   ]
  },
  {
   "cell_type": "code",
   "execution_count": 9,
   "id": "71ffe173",
   "metadata": {},
   "outputs": [
    {
     "name": "stdout",
     "output_type": "stream",
     "text": [
      "By label:\n",
      "1380004385\n",
      "By position:\n",
      "1380004385\n"
     ]
    }
   ],
   "source": [
    "# Indexing\n",
    "print(\"By label:\")\n",
    "print(dict_series['India'])\n",
    "print('By position:')\n",
    "print(dict_series.iloc[1])"
   ]
  },
  {
   "cell_type": "code",
   "execution_count": 10,
   "id": "21132aaa",
   "metadata": {},
   "outputs": [
    {
     "name": "stdout",
     "output_type": "stream",
     "text": [
      "After adding Russia:\n",
      "USA\t331002651\n",
      "India\t1380004385\n",
      "China\t1439323776\n",
      "Brazil\t212559417\n",
      "Russia\t145934462\n",
      "\n",
      "After removing China:\n",
      "USA\t3.31E+08\n",
      "India\t1.38E+09\n",
      "Brazil\t2.13E+08\n",
      "Russia\t1.46E+08\n",
      "\n",
      "Brazil\t403.86 million\n",
      "China\t2.16 billion\n",
      "India\t2.76 billion\n",
      "Russia\tnan million\n",
      "USA\t562.70 million\n"
     ]
    }
   ],
   "source": [
    "# Adding and removing elements\n",
    "dict_series['Russia'] = 145934462\n",
    "print(\"After adding Russia:\")\n",
    "for idx, val in dict_series.items():\n",
    "    print(\"{0}\\t{1}\".format(idx,val))\n",
    "print(\"\")\n",
    "\n",
    "dict_series = dict_series.drop('China')\n",
    "print(\"After removing China:\")\n",
    "for idx, val in dict_series.items():\n",
    "    print(\"{0}\\t{1}\".format(idx,format(val,\".2E\")))\n",
    "\n",
    "# Population in millions\n",
    "print()\n",
    "pop_millions = projected_pop_mismatch / 1e6\n",
    "\n",
    "for country, pop in pop_millions.items():\n",
    "    if pop >= 1000:\n",
    "        print(\"{0}\\t{1:.2f} billion\".format(country, pop/1000))\n",
    "    elif pop == 'NaN':\n",
    "        print('Missing data')\n",
    "    else:\n",
    "        print(\"{0}\\t{1:.2f} million\".format(country, pop))"
   ]
  },
  {
   "cell_type": "code",
   "execution_count": 11,
   "id": "f49d076e",
   "metadata": {},
   "outputs": [
    {
     "name": "stdout",
     "output_type": "stream",
     "text": [
      "Brazil     403.862892\n",
      "China     2158.985664\n",
      "India     2760.008770\n",
      "Russia            NaN\n",
      "USA        562.704507\n",
      "Canada      38.010000\n",
      "dtype: float64\n"
     ]
    }
   ],
   "source": [
    "# Adding a value\n",
    "pop_millions['Canada'] = 38.01\n",
    "print(pop_millions)"
   ]
  },
  {
   "cell_type": "code",
   "execution_count": 12,
   "id": "8a53a3ea",
   "metadata": {},
   "outputs": [
    {
     "name": "stdout",
     "output_type": "stream",
     "text": [
      "Brazil    False\n",
      "China      True\n",
      "India      True\n",
      "Russia    False\n",
      "USA       False\n",
      "Canada    False\n",
      "dtype: bool\n"
     ]
    }
   ],
   "source": [
    "# Boolean operators\n",
    "over_billion = pop_millions > 1000\n",
    "print(over_billion)"
   ]
  },
  {
   "cell_type": "code",
   "execution_count": 13,
   "id": "2879cec8",
   "metadata": {},
   "outputs": [
    {
     "name": "stdout",
     "output_type": "stream",
     "text": [
      "Delhi          NaN\n",
      "HongKong       NaN\n",
      "London         1.0\n",
      "NewYork        NaN\n",
      "Shanghai       NaN\n",
      "Shenzhen    4096.0\n",
      "dtype: float64\n"
     ]
    }
   ],
   "source": [
    "# Mismatched indices\n",
    "series1 = pd.Series([1, 2, 3, 4], ['London', 'HongKong', 'Shanghai', 'Shenzhen'])\n",
    "series2 = pd.Series([5, 6, 7, 8], ['London', 'Shenzhen', 'NewYork', 'Delhi'])\n",
    "power = series1 ** series2\n",
    "print(power)"
   ]
  },
  {
   "cell_type": "code",
   "execution_count": 14,
   "id": "7cbe7f58",
   "metadata": {},
   "outputs": [
    {
     "name": "stdout",
     "output_type": "stream",
     "text": [
      "two         4\n",
      "three       9\n",
      "five       25\n",
      "seven      49\n",
      "eleven    121\n",
      "dtype: int64\n",
      "\n",
      "Reversed order:\n",
      "eleven    121\n",
      "seven      49\n",
      "five       25\n",
      "three       9\n",
      "two         4\n",
      "dtype: int64\n"
     ]
    }
   ],
   "source": [
    "# Series comprehensions\n",
    "square_primes = pd.Series([x**2 for x in [2, 3, 5, 7, 11]], index=['two', 'three', 'five', 'seven', 'eleven'])\n",
    "print(square_primes)\n",
    "print()\n",
    "print('Reversed order:')\n",
    "print(square_primes[::-1])"
   ]
  },
  {
   "cell_type": "code",
   "execution_count": 15,
   "id": "b97606b0",
   "metadata": {},
   "outputs": [
    {
     "name": "stdout",
     "output_type": "stream",
     "text": [
      "False\n",
      "True\n"
     ]
    }
   ],
   "source": [
    "# In method\n",
    "print('India' in power)\n",
    "print('Delhi' in power)"
   ]
  },
  {
   "cell_type": "markdown",
   "id": "e363217b",
   "metadata": {},
   "source": [
    "## Series methods"
   ]
  },
  {
   "cell_type": "code",
   "execution_count": 16,
   "id": "f6744f87",
   "metadata": {},
   "outputs": [
    {
     "name": "stdout",
     "output_type": "stream",
     "text": [
      "Delhi        True\n",
      "HongKong     True\n",
      "London      False\n",
      "NewYork      True\n",
      "Shanghai     True\n",
      "Shenzhen    False\n",
      "dtype: bool\n"
     ]
    }
   ],
   "source": [
    "# Check for mismatches (null values)\n",
    "print(pd.isnull(power))"
   ]
  },
  {
   "cell_type": "code",
   "execution_count": 17,
   "id": "19622e34",
   "metadata": {},
   "outputs": [
    {
     "name": "stdout",
     "output_type": "stream",
     "text": [
      "Delhi       False\n",
      "HongKong    False\n",
      "London       True\n",
      "NewYork     False\n",
      "Shanghai    False\n",
      "Shenzhen     True\n",
      "dtype: bool\n"
     ]
    }
   ],
   "source": [
    "# Not null values\n",
    "print(pd.notnull(power))"
   ]
  },
  {
   "cell_type": "markdown",
   "id": "83c1009e",
   "metadata": {},
   "source": [
    "## Dataframes"
   ]
  },
  {
   "cell_type": "code",
   "execution_count": 19,
   "id": "f027f83c",
   "metadata": {},
   "outputs": [
    {
     "data": {
      "text/html": [
       "<div>\n",
       "<style scoped>\n",
       "    .dataframe tbody tr th:only-of-type {\n",
       "        vertical-align: middle;\n",
       "    }\n",
       "\n",
       "    .dataframe tbody tr th {\n",
       "        vertical-align: top;\n",
       "    }\n",
       "\n",
       "    .dataframe thead th {\n",
       "        text-align: right;\n",
       "    }\n",
       "</style>\n",
       "<table border=\"1\" class=\"dataframe\">\n",
       "  <thead>\n",
       "    <tr style=\"text-align: right;\">\n",
       "      <th></th>\n",
       "      <th>state</th>\n",
       "      <th>year</th>\n",
       "      <th>pop</th>\n",
       "    </tr>\n",
       "  </thead>\n",
       "  <tbody>\n",
       "    <tr>\n",
       "      <th>0</th>\n",
       "      <td>Ohio</td>\n",
       "      <td>2000</td>\n",
       "      <td>1.5</td>\n",
       "    </tr>\n",
       "    <tr>\n",
       "      <th>1</th>\n",
       "      <td>Ohio</td>\n",
       "      <td>2001</td>\n",
       "      <td>1.7</td>\n",
       "    </tr>\n",
       "    <tr>\n",
       "      <th>2</th>\n",
       "      <td>Ohio</td>\n",
       "      <td>2002</td>\n",
       "      <td>3.6</td>\n",
       "    </tr>\n",
       "    <tr>\n",
       "      <th>3</th>\n",
       "      <td>Nevada</td>\n",
       "      <td>2001</td>\n",
       "      <td>2.4</td>\n",
       "    </tr>\n",
       "    <tr>\n",
       "      <th>4</th>\n",
       "      <td>Nevada</td>\n",
       "      <td>2002</td>\n",
       "      <td>2.9</td>\n",
       "    </tr>\n",
       "    <tr>\n",
       "      <th>5</th>\n",
       "      <td>Nevada</td>\n",
       "      <td>2003</td>\n",
       "      <td>3.2</td>\n",
       "    </tr>\n",
       "  </tbody>\n",
       "</table>\n",
       "</div>"
      ],
      "text/plain": [
       "    state  year  pop\n",
       "0    Ohio  2000  1.5\n",
       "1    Ohio  2001  1.7\n",
       "2    Ohio  2002  3.6\n",
       "3  Nevada  2001  2.4\n",
       "4  Nevada  2002  2.9\n",
       "5  Nevada  2003  3.2"
      ]
     },
     "execution_count": 19,
     "metadata": {},
     "output_type": "execute_result"
    }
   ],
   "source": [
    "data = {'state': ['Ohio', 'Ohio', 'Ohio', 'Nevada', 'Nevada', 'Nevada'],\n",
    "       'year' : [2000, 2001, 2002, 2001, 2002, 2003],\n",
    "       'pop' : [1.5, 1.7, 3.6, 2.4, 2.9, 3.2]}\n",
    "\n",
    "frame = pd.DataFrame(data)\n",
    "frame"
   ]
  },
  {
   "cell_type": "code",
   "execution_count": 20,
   "id": "a2ea47bb",
   "metadata": {},
   "outputs": [
    {
     "data": {
      "text/html": [
       "<div>\n",
       "<style scoped>\n",
       "    .dataframe tbody tr th:only-of-type {\n",
       "        vertical-align: middle;\n",
       "    }\n",
       "\n",
       "    .dataframe tbody tr th {\n",
       "        vertical-align: top;\n",
       "    }\n",
       "\n",
       "    .dataframe thead th {\n",
       "        text-align: right;\n",
       "    }\n",
       "</style>\n",
       "<table border=\"1\" class=\"dataframe\">\n",
       "  <thead>\n",
       "    <tr style=\"text-align: right;\">\n",
       "      <th></th>\n",
       "      <th>state</th>\n",
       "      <th>year</th>\n",
       "      <th>pop</th>\n",
       "    </tr>\n",
       "  </thead>\n",
       "  <tbody>\n",
       "    <tr>\n",
       "      <th>0</th>\n",
       "      <td>Ohio</td>\n",
       "      <td>2000</td>\n",
       "      <td>1.5</td>\n",
       "    </tr>\n",
       "    <tr>\n",
       "      <th>1</th>\n",
       "      <td>Ohio</td>\n",
       "      <td>2001</td>\n",
       "      <td>1.7</td>\n",
       "    </tr>\n",
       "    <tr>\n",
       "      <th>2</th>\n",
       "      <td>Ohio</td>\n",
       "      <td>2002</td>\n",
       "      <td>3.6</td>\n",
       "    </tr>\n",
       "    <tr>\n",
       "      <th>3</th>\n",
       "      <td>Nevada</td>\n",
       "      <td>2001</td>\n",
       "      <td>2.4</td>\n",
       "    </tr>\n",
       "    <tr>\n",
       "      <th>4</th>\n",
       "      <td>Nevada</td>\n",
       "      <td>2002</td>\n",
       "      <td>2.9</td>\n",
       "    </tr>\n",
       "  </tbody>\n",
       "</table>\n",
       "</div>"
      ],
      "text/plain": [
       "    state  year  pop\n",
       "0    Ohio  2000  1.5\n",
       "1    Ohio  2001  1.7\n",
       "2    Ohio  2002  3.6\n",
       "3  Nevada  2001  2.4\n",
       "4  Nevada  2002  2.9"
      ]
     },
     "execution_count": 20,
     "metadata": {},
     "output_type": "execute_result"
    }
   ],
   "source": [
    "frame.head()"
   ]
  },
  {
   "cell_type": "code",
   "execution_count": null,
   "id": "975ee0ae",
   "metadata": {},
   "outputs": [],
   "source": []
  }
 ],
 "metadata": {
  "kernelspec": {
   "display_name": "base",
   "language": "python",
   "name": "python3"
  },
  "language_info": {
   "codemirror_mode": {
    "name": "ipython",
    "version": 3
   },
   "file_extension": ".py",
   "mimetype": "text/x-python",
   "name": "python",
   "nbconvert_exporter": "python",
   "pygments_lexer": "ipython3",
   "version": "3.13.5"
  }
 },
 "nbformat": 4,
 "nbformat_minor": 5
}
