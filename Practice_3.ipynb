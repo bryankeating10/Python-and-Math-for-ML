{
 "cells": [
  {
   "cell_type": "markdown",
   "id": "52bf4e5a",
   "metadata": {},
   "source": [
    "## Practice for Module 3"
   ]
  },
  {
   "cell_type": "markdown",
   "id": "8ef74e9f",
   "metadata": {},
   "source": [
    "The learning goals for this module is centered around Array Oriented Programming:\n",
    "* Writing vectorization code\n",
    "* NumPy\n",
    "    - Arithmetic with arrays\n",
    "    - Slicining higher dimensional arrays\n",
    "* The Lambda Expression\n",
    "* The Reduce Function\n",
    "* Solving complicated problems without the use of loops"
   ]
  },
  {
   "cell_type": "markdown",
   "id": "9d7036b8",
   "metadata": {},
   "source": []
  }
 ],
 "metadata": {
  "language_info": {
   "name": "python"
  }
 },
 "nbformat": 4,
 "nbformat_minor": 5
}
