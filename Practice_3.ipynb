{
 "cells": [
  {
   "cell_type": "markdown",
   "id": "52bf4e5a",
   "metadata": {},
   "source": [
    "# Practice for Module 3"
   ]
  },
  {
   "cell_type": "markdown",
   "id": "8ef74e9f",
   "metadata": {},
   "source": [
    "The learning goals for this module is centered around Array Oriented Programming:\n",
    "* Writing vectorization code\n",
    "* NumPy\n",
    "    - Arithmetic with arrays\n",
    "    - Slicining higher dimensional arrays\n",
    "* The Lambda Expression\n",
    "* The Reduce Function\n",
    "* Solving complicated problems without the use of loops"
   ]
  },
  {
   "cell_type": "markdown",
   "id": "9d7036b8",
   "metadata": {},
   "source": [
    "## NumPy"
   ]
  },
  {
   "cell_type": "code",
   "execution_count": 38,
   "id": "eca8c81d",
   "metadata": {},
   "outputs": [
    {
     "name": "stdout",
     "output_type": "stream",
     "text": [
      "[ 0  1  2  3  4  5  6  7  8  9 10 11 12 13 14 15 16 17 18 19 20 21 22 23\n",
      " 24 25 26 27 28 29 30 31 32 33 34 35 36 37 38 39 40 41 42 43 44 45 46 47\n",
      " 48 49 50 51 52 53 54 55 56 57 58 59 60 61 62 63 64 65 66 67 68 69 70 71\n",
      " 72 73 74 75 76 77 78 79 80 81 82 83 84 85 86 87 88 89 90 91 92 93 94 95\n",
      " 96 97 98 99]\n",
      "[0, 1, 2, 3, 4, 5, 6, 7, 8, 9, 10, 11, 12, 13, 14, 15, 16, 17, 18, 19, 20, 21, 22, 23, 24, 25, 26, 27, 28, 29, 30, 31, 32, 33, 34, 35, 36, 37, 38, 39, 40, 41, 42, 43, 44, 45, 46, 47, 48, 49, 50, 51, 52, 53, 54, 55, 56, 57, 58, 59, 60, 61, 62, 63, 64, 65, 66, 67, 68, 69, 70, 71, 72, 73, 74, 75, 76, 77, 78, 79, 80, 81, 82, 83, 84, 85, 86, 87, 88, 89, 90, 91, 92, 93, 94, 95, 96, 97, 98, 99]\n"
     ]
    }
   ],
   "source": [
    "import numpy as np\n",
    "my_arr = np.arange(100) # NumPy array\n",
    "my_list = list(range(100)) # Python list\n",
    "print(my_arr)\n",
    "print(my_list)"
   ]
  },
  {
   "cell_type": "code",
   "execution_count": 39,
   "id": "a0ea4df4",
   "metadata": {},
   "outputs": [
    {
     "name": "stdout",
     "output_type": "stream",
     "text": [
      "CPU times: total: 0 ns\n",
      "Wall time: 87.3 μs\n",
      "[  0   2   4   6   8  10  12  14  16  18  20  22  24  26  28  30  32  34\n",
      "  36  38  40  42  44  46  48  50  52  54  56  58  60  62  64  66  68  70\n",
      "  72  74  76  78  80  82  84  86  88  90  92  94  96  98 100 102 104 106\n",
      " 108 110 112 114 116 118 120 122 124 126 128 130 132 134 136 138 140 142\n",
      " 144 146 148 150 152 154 156 158 160 162 164 166 168 170 172 174 176 178\n",
      " 180 182 184 186 188 190 192 194 196 198]\n"
     ]
    }
   ],
   "source": [
    "# Time for NumpPy operation\n",
    "my_arr = np.arange(100)\n",
    "%time for _ in range(2): my_arr2 = my_arr * 2\n",
    "print(my_arr2)"
   ]
  },
  {
   "cell_type": "code",
   "execution_count": 40,
   "id": "2d8627bb",
   "metadata": {},
   "outputs": [
    {
     "name": "stdout",
     "output_type": "stream",
     "text": [
      "[0, 1, 4, 9, 16, 25, 36, 49, 64, 81, 100, 121, 144, 169, 196, 225, 256, 289, 324, 361, 400, 441, 484, 529, 576, 625, 676, 729, 784, 841, 900, 961, 1024, 1089, 1156, 1225, 1296, 1369, 1444, 1521, 1600, 1681, 1764, 1849, 1936, 2025, 2116, 2209, 2304, 2401, 2500, 2601, 2704, 2809, 2916, 3025, 3136, 3249, 3364, 3481, 3600, 3721, 3844, 3969, 4096, 4225, 4356, 4489, 4624, 4761, 4900, 5041, 5184, 5329, 5476, 5625, 5776, 5929, 6084, 6241, 6400, 6561, 6724, 6889, 7056, 7225, 7396, 7569, 7744, 7921, 8100, 8281, 8464, 8649, 8836, 9025, 9216, 9409, 9604, 9801]\n"
     ]
    }
   ],
   "source": [
    "# List practice\n",
    "my_list2 = [i ** 2 for i in my_list]\n",
    "print(my_list2)"
   ]
  },
  {
   "cell_type": "markdown",
   "id": "fdecc017",
   "metadata": {},
   "source": [
    "## Vectorized arrays"
   ]
  },
  {
   "cell_type": "code",
   "execution_count": 41,
   "id": "eb03a81e",
   "metadata": {},
   "outputs": [
    {
     "name": "stdout",
     "output_type": "stream",
     "text": [
      "<class 'numpy.ndarray'>\n"
     ]
    }
   ],
   "source": [
    "import numpy as np\n",
    "samplelist = [1, 2, 3, 4, 5]\n",
    "samplearray = np.array(samplelist)\n",
    "print(type(samplearray))\n"
   ]
  },
  {
   "cell_type": "markdown",
   "id": "1b9d574d",
   "metadata": {},
   "source": [
    "Add 2 to every value in the list/array"
   ]
  },
  {
   "cell_type": "code",
   "execution_count": 42,
   "id": "0c8fec70",
   "metadata": {},
   "outputs": [
    {
     "name": "stdout",
     "output_type": "stream",
     "text": [
      "Incompatible types\n"
     ]
    }
   ],
   "source": [
    "try:\n",
    "    samplelist += 2\n",
    "except TypeError:\n",
    "    print(\"Incompatible types\")"
   ]
  },
  {
   "cell_type": "code",
   "execution_count": 43,
   "id": "a8a4cb90",
   "metadata": {},
   "outputs": [
    {
     "name": "stdout",
     "output_type": "stream",
     "text": [
      "[3 4 5 6 7]\n"
     ]
    }
   ],
   "source": [
    "samplearray += 2\n",
    "print(samplearray)"
   ]
  },
  {
   "cell_type": "markdown",
   "id": "e162bccf",
   "metadata": {},
   "source": [
    "## NumPy ndarray"
   ]
  },
  {
   "cell_type": "markdown",
   "id": "c33f5ac5",
   "metadata": {},
   "source": [
    "Performs mathematical operations on blocks of data. It is a container for homogenous data. Every array has a shape: a tuple indicating the size of each dimension, and a dtype: an object describing the data type of the array"
   ]
  },
  {
   "cell_type": "code",
   "execution_count": 44,
   "id": "c0b389eb",
   "metadata": {},
   "outputs": [
    {
     "name": "stdout",
     "output_type": "stream",
     "text": [
      "[0 1 2 3 4]\n"
     ]
    }
   ],
   "source": [
    "my_ndarray = np.arange(5)\n",
    "print(my_ndarray)"
   ]
  },
  {
   "cell_type": "code",
   "execution_count": 45,
   "id": "5eb9c5a2",
   "metadata": {},
   "outputs": [
    {
     "name": "stdout",
     "output_type": "stream",
     "text": [
      "[5 6 7 8 9]\n"
     ]
    }
   ],
   "source": [
    "print(my_ndarray+5)"
   ]
  },
  {
   "cell_type": "code",
   "execution_count": 46,
   "id": "6978a77b",
   "metadata": {},
   "outputs": [
    {
     "name": "stdout",
     "output_type": "stream",
     "text": [
      "[ 0  1  8 27 64]\n"
     ]
    }
   ],
   "source": [
    "print(my_ndarray ** 3)"
   ]
  },
  {
   "cell_type": "markdown",
   "id": "d1e8ed7e",
   "metadata": {},
   "source": [
    "Random function and ndarray methods"
   ]
  },
  {
   "cell_type": "code",
   "execution_count": 47,
   "id": "e6d554b4",
   "metadata": {},
   "outputs": [
    {
     "name": "stdout",
     "output_type": "stream",
     "text": [
      "Starting ndarray : [[-0.31326038 -0.11459147  0.65995245  0.39843676]\n",
      " [ 0.45357684  0.53950544  2.53523177 -2.24907536]\n",
      " [ 0.58707053 -0.74663289  0.62887911 -0.01681048]]\n",
      "\n",
      "Multiply by 10 : [[ -3.13260376  -1.14591471   6.59952446   3.98436759]\n",
      " [  4.53576837   5.39505441  25.35231771 -22.49075365]\n",
      " [  5.87070528  -7.46632893   6.28879109  -0.16810478]]\n",
      "Shape of ndarray : (3, 4)\n",
      "Type of data: float64\n",
      "Number of dimensions: 2\n"
     ]
    }
   ],
   "source": [
    "data_rand = np.random.randn(3,4)\n",
    "print(\"Starting ndarray : {0}\".format(data_rand))\n",
    "print()\n",
    "print(\"Multiply by 10 : {0}\".format(data_rand * 10))\n",
    "print(\"Shape of ndarray : {0}\".format(data_rand.shape))\n",
    "print(f\"Type of data: {data_rand.dtype}\")\n",
    "print(f\"Number of dimensions: {data_rand.ndim}\")"
   ]
  },
  {
   "cell_type": "markdown",
   "id": "d4c10c40",
   "metadata": {},
   "source": [
    "Creation of ndarrays"
   ]
  },
  {
   "cell_type": "code",
   "execution_count": 48,
   "id": "ee08d602",
   "metadata": {},
   "outputs": [
    {
     "name": "stdout",
     "output_type": "stream",
     "text": [
      "<class 'numpy.ndarray'>\n",
      "[1 2 3 4 5]\n"
     ]
    }
   ],
   "source": [
    "# From list\n",
    "list_input = [1, 2, 3, 4, 5]\n",
    "ndarray_from_list = np.array(list_input)\n",
    "print(type(ndarray_from_list))\n",
    "print(ndarray_from_list)"
   ]
  },
  {
   "cell_type": "code",
   "execution_count": 49,
   "id": "7f234219",
   "metadata": {},
   "outputs": [
    {
     "name": "stdout",
     "output_type": "stream",
     "text": [
      "[[1 2 3]\n",
      " [4 5 6]\n",
      " [7 8 9]]\n",
      "(3, 3)\n"
     ]
    }
   ],
   "source": [
    "# From two-dimensional list\n",
    "two_dim_list = [[1,2,3],[4,5,6],[7,8,9]]\n",
    "ndarray_from_2dlist = np.array(two_dim_list)\n",
    "print(ndarray_from_2dlist)\n",
    "print(ndarray_from_2dlist.shape)"
   ]
  },
  {
   "cell_type": "code",
   "execution_count": 50,
   "id": "c65917e6",
   "metadata": {},
   "outputs": [
    {
     "name": "stdout",
     "output_type": "stream",
     "text": [
      "23.3 μs ± 1.21 μs per loop (mean ± std. dev. of 7 runs, 10,000 loops each)\n",
      "25.1 μs ± 1.15 μs per loop (mean ± std. dev. of 7 runs, 10,000 loops each)\n"
     ]
    }
   ],
   "source": [
    "# Instantiate an empty ndarray\n",
    "empty_ndarray_test = np.empty((3,4,5))\n",
    "\n",
    "# Initialize an ndarray of all zeros\n",
    "zeros_ndarray_test = np.zeros((3,4,5))\n",
    "\n",
    "# Compare time to instantiate empty vs zeros\n",
    "avg_empty_time = %timeit -o empty_ndarray = np.empty((1000,1000,100))\n",
    "avg_zeros_time = %timeit -o zeros_ndarray = np.zeros((1000,1000,100))\n",
    "empty_ndarray = np.empty((1000,1000,100))\n",
    "zeros_ndarray = np.zeros((1000,1000,100))"
   ]
  },
  {
   "cell_type": "code",
   "execution_count": 51,
   "id": "075a7b9b",
   "metadata": {},
   "outputs": [
    {
     "name": "stdout",
     "output_type": "stream",
     "text": [
      "ID of empty ndarray: 2099854839600\n",
      "ID of 333,222,11 element in zeros ndarray: 2099854448720\n",
      "ID of 333,222,12 element in zeros ndarray: 2099854448720\n"
     ]
    }
   ],
   "source": [
    "# Checking data id\n",
    "print(f\"ID of empty ndarray: {id(empty_ndarray)}\")\n",
    "print(f'ID of 333,222,11 element in zeros ndarray: {id(zeros_ndarray[333][222][11])}')\n",
    "print(f'ID of 333,222,12 element in zeros ndarray: {id(zeros_ndarray[333][222][12])}')"
   ]
  },
  {
   "cell_type": "markdown",
   "id": "734fb4a7",
   "metadata": {},
   "source": [
    "NumPy Data Types\n",
    "* dtype contains the information (metadata) the ndarray needs to interpret a chunk of memory as a particular data type\n",
    "* the naming convention is the type of data followed by the number of bits per element. Eg int32, float64"
   ]
  },
  {
   "cell_type": "code",
   "execution_count": 52,
   "id": "2e8fa1bd",
   "metadata": {},
   "outputs": [
    {
     "name": "stdout",
     "output_type": "stream",
     "text": [
      "[[1 2 3]\n",
      " [4 5 6]]\n",
      "int32\n",
      "float64\n"
     ]
    }
   ],
   "source": [
    "arr1 = np.array([[1,2,3],[4,5,6]], dtype=np.int32)\n",
    "print(arr1)\n",
    "print(arr1.dtype)\n",
    "arr2 = np.array([[1,2,3],[4,5,6]], dtype=np.float64)\n",
    "print(arr2.dtype)"
   ]
  },
  {
   "cell_type": "markdown",
   "id": "2a22790d",
   "metadata": {},
   "source": [
    "## Arithmetic with NumPy arrays"
   ]
  },
  {
   "cell_type": "code",
   "execution_count": 53,
   "id": "ff366aa0",
   "metadata": {},
   "outputs": [
    {
     "name": "stdout",
     "output_type": "stream",
     "text": [
      "Array squared: [[ 1.  4.  9.]\n",
      " [16. 25. 36.]]\n"
     ]
    }
   ],
   "source": [
    "arith_arr = np.array([[1,2,3],[4,5,6]], dtype=np.float64)\n",
    "print(f\"Array squared: {arith_arr ** 2}\")"
   ]
  },
  {
   "cell_type": "markdown",
   "id": "e3447a93",
   "metadata": {},
   "source": [
    "## Basic indexing and slicing"
   ]
  },
  {
   "cell_type": "code",
   "execution_count": 54,
   "id": "a3ff107c",
   "metadata": {},
   "outputs": [
    {
     "name": "stdout",
     "output_type": "stream",
     "text": [
      "[[  2   4   6   8  10  12  14  16]\n",
      " [ 18  20  22  24  26  28  30  32]\n",
      " [ 34  36  38  40  42  44  46  48]\n",
      " [ 50  52  54  56  58  60  62  64]\n",
      " [ 66  68  70  72  74  76  78  80]\n",
      " [ 82  84  86  88  90  92  94  96]\n",
      " [ 98 100 102 104 106 108 110 112]]\n"
     ]
    }
   ],
   "source": [
    "slice_arr = np.arange(2,114,2).reshape((7,8))\n",
    "print(slice_arr)"
   ]
  },
  {
   "cell_type": "code",
   "execution_count": 55,
   "id": "97290600",
   "metadata": {},
   "outputs": [
    {
     "name": "stdout",
     "output_type": "stream",
     "text": [
      "[[58 60]\n",
      " [74 76]]\n"
     ]
    }
   ],
   "source": [
    "print(slice_arr[3:5, 4:6])  # Rows 3 and 4, Columns 4 and 5"
   ]
  },
  {
   "cell_type": "code",
   "execution_count": 57,
   "id": "478bfc4c",
   "metadata": {},
   "outputs": [
    {
     "name": "stdout",
     "output_type": "stream",
     "text": [
      "[[  2   4   6   8  10  12  14  16]\n",
      " [ 18  20  22  24  26  28  30  32]\n",
      " [ 34  36  38  40  42  44  46  48]\n",
      " [ 50  52  54  56  58  60  62  64]\n",
      " [ 66  68  70  72  74  76  78  80]\n",
      " [ 82  84  86  88  90  92  99  99]\n",
      " [ 98 100 102 104 106 108  99  99]]\n"
     ]
    }
   ],
   "source": [
    "slice_arr[5:, 6:] = 99\n",
    "print(slice_arr)"
   ]
  },
  {
   "cell_type": "code",
   "execution_count": 62,
   "id": "c1bec07a",
   "metadata": {},
   "outputs": [
    {
     "name": "stdout",
     "output_type": "stream",
     "text": [
      "[[ 11  11   6   8  10  12  14  16]\n",
      " [ 11  11  22  24  26  28  30  32]\n",
      " [ 34  36  38  40  42  44  46  48]\n",
      " [ 50  52  54  56  58  60  62  64]\n",
      " [ 66  68  70  72  74  76  78  80]\n",
      " [ 82  84  86  88  90  92  99  99]\n",
      " [ 98 100 102 104 106 108  99  99]]\n",
      "11\n"
     ]
    }
   ],
   "source": [
    "slice_arr[:2,:2] = 11\n",
    "print(slice_arr)\n",
    "print(slice_arr[0,0])  # First row, first column"
   ]
  },
  {
   "cell_type": "markdown",
   "id": "a7186143",
   "metadata": {},
   "source": [
    "### Notes\n",
    "* slicing includes the start value and excludes the end value\n",
    "* the first index is zero"
   ]
  },
  {
   "cell_type": "markdown",
   "id": "de077325",
   "metadata": {},
   "source": [
    "## Boolean Indexing"
   ]
  },
  {
   "cell_type": "code",
   "execution_count": 75,
   "id": "443d3bc2",
   "metadata": {},
   "outputs": [
    {
     "name": "stdout",
     "output_type": "stream",
     "text": [
      "[ True False False  True False False False]\n",
      "['Bob' 'Bob']\n",
      "['Joe' 'Will' 'Will' 'Joe' 'Joe']\n",
      "['Bob' 'Will' 'Joe']\n"
     ]
    }
   ],
   "source": [
    "names = np.array(['Bob', 'Joe', 'Will', 'Bob', 'Will', 'Joe', 'Joe'])\n",
    "print(names == 'Bob')\n",
    "print(names[names == 'Bob'])\n",
    "print(names[names != 'Bob'])\n",
    "print(names[np.array([True, False, False, False, True, False, True])])\n"
   ]
  },
  {
   "cell_type": "code",
   "execution_count": null,
   "id": "2dcf3aa4",
   "metadata": {},
   "outputs": [
    {
     "name": "stdout",
     "output_type": "stream",
     "text": [
      "['Bob' 'Cole' 'Cole' 'Bob' 'Cole' 'Cole' 'Cole']\n"
     ]
    }
   ],
   "source": [
    "names[names != 'Bob'] = 'Co'\n",
    "print(names)"
   ]
  },
  {
   "cell_type": "code",
   "execution_count": null,
   "id": "8180224e",
   "metadata": {},
   "outputs": [],
   "source": []
  }
 ],
 "metadata": {
  "kernelspec": {
   "display_name": "base",
   "language": "python",
   "name": "python3"
  },
  "language_info": {
   "codemirror_mode": {
    "name": "ipython",
    "version": 3
   },
   "file_extension": ".py",
   "mimetype": "text/x-python",
   "name": "python",
   "nbconvert_exporter": "python",
   "pygments_lexer": "ipython3",
   "version": "3.13.5"
  }
 },
 "nbformat": 4,
 "nbformat_minor": 5
}
