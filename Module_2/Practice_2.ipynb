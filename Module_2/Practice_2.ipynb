{
 "cells": [
  {
   "cell_type": "markdown",
   "id": "cd3acd9b-284c-4c96-afd0-9f014e071dae",
   "metadata": {},
   "source": [
    "# Practice for Module 2"
   ]
  },
  {
   "cell_type": "markdown",
   "id": "b6adb69f-579d-4f12-a288-1ebe7f3c996d",
   "metadata": {},
   "source": [
    "## Variable type"
   ]
  },
  {
   "cell_type": "markdown",
   "id": "d986346d-4468-44e2-b168-83e8c128b642",
   "metadata": {},
   "source": [
    "In python, variables don't innately have a type. Variables are a tag to an object in memory that has a type."
   ]
  },
  {
   "cell_type": "code",
   "execution_count": 46,
   "id": "a9436700-b276-4c54-a4f8-329f4a5c754c",
   "metadata": {},
   "outputs": [
    {
     "data": {
      "text/plain": [
       "'Bryan'"
      ]
     },
     "execution_count": 46,
     "metadata": {},
     "output_type": "execute_result"
    }
   ],
   "source": [
    "weight = 76.7 # the tag \"weight\" now is on a float objet whose type is float.\n",
    "name = 'Bryan'\n",
    "name"
   ]
  },
  {
   "cell_type": "markdown",
   "id": "703cacad-59ae-48b3-9505-c5761cffb5cc",
   "metadata": {},
   "source": [
    "Assign a value to multiple variables"
   ]
  },
  {
   "cell_type": "code",
   "execution_count": 47,
   "id": "b92113e3-b77c-4108-9c12-4aa51996dcbb",
   "metadata": {},
   "outputs": [
    {
     "name": "stdout",
     "output_type": "stream",
     "text": [
      "100 100 100\n"
     ]
    }
   ],
   "source": [
    "a = b = c = 100\n",
    "print(a,b,c)"
   ]
  },
  {
   "cell_type": "code",
   "execution_count": 48,
   "id": "f344048b-a0d8-4679-84d9-276bdeec47dd",
   "metadata": {},
   "outputs": [
    {
     "name": "stdout",
     "output_type": "stream",
     "text": [
      "100 200 100\n"
     ]
    }
   ],
   "source": [
    "b = 200\n",
    "print(a,b,c)"
   ]
  },
  {
   "cell_type": "markdown",
   "id": "0c549abe-023d-46e3-a0ac-b11c0886c08b",
   "metadata": {},
   "source": [
    "## Unpacking tuple to individual variables"
   ]
  },
  {
   "cell_type": "code",
   "execution_count": 49,
   "id": "915d2bc2-9f3d-4c57-9599-6b472c9a92d2",
   "metadata": {},
   "outputs": [
    {
     "name": "stdout",
     "output_type": "stream",
     "text": [
      "<class 'int'> <class 'float'> <class 'str'>\n",
      "['<class', \"'int'>\"]\n"
     ]
    }
   ],
   "source": [
    "a, b, c = 1, 2.0, 'Hello'\n",
    "print(type(a),type(b),type(c))\n",
    "print(str(type(a)).split(' '))\n",
    "d, e = str(type(a)).split(' ')"
   ]
  },
  {
   "cell_type": "code",
   "execution_count": 50,
   "id": "be37e3b2-b108-4630-88d1-e2eed193d6ba",
   "metadata": {},
   "outputs": [
    {
     "name": "stdout",
     "output_type": "stream",
     "text": [
      "class 'int'\n"
     ]
    }
   ],
   "source": [
    "d = d[1:]\n",
    "e = e[:-1]\n",
    "print(d,e)"
   ]
  },
  {
   "cell_type": "markdown",
   "id": "0dc70e43-b94c-4ce0-8abd-7e385c73a4bf",
   "metadata": {},
   "source": [
    "## Multiple output functions"
   ]
  },
  {
   "cell_type": "code",
   "execution_count": 51,
   "id": "784ab1d7-b01b-495a-85de-02e88defbdd6",
   "metadata": {},
   "outputs": [
    {
     "data": {
      "text/plain": [
       "(4, 1)"
      ]
     },
     "execution_count": 51,
     "metadata": {},
     "output_type": "execute_result"
    }
   ],
   "source": [
    "def divide(x,y):\n",
    "    times = int(x/y)\n",
    "    rem = x % y\n",
    "    return times, rem\n",
    "times, rem = divide(17,4)\n",
    "times, rem"
   ]
  },
  {
   "cell_type": "markdown",
   "id": "a712df71-f96c-4ee4-8299-3ab3636c2e19",
   "metadata": {},
   "source": [
    "## Built in data types"
   ]
  },
  {
   "cell_type": "code",
   "execution_count": 52,
   "id": "5da53c85-0e50-42bc-9ae9-fe60a7a5abfa",
   "metadata": {},
   "outputs": [
    {
     "data": {
      "text/plain": [
       "str"
      ]
     },
     "execution_count": 52,
     "metadata": {},
     "output_type": "execute_result"
    }
   ],
   "source": [
    "string = 'string'\n",
    "type(string)"
   ]
  },
  {
   "cell_type": "code",
   "execution_count": 53,
   "id": "19b29efd-f73a-468c-a344-e80235fb199e",
   "metadata": {},
   "outputs": [
    {
     "data": {
      "text/plain": [
       "int"
      ]
     },
     "execution_count": 53,
     "metadata": {},
     "output_type": "execute_result"
    }
   ],
   "source": [
    "integer = 10\n",
    "type(integer)"
   ]
  },
  {
   "cell_type": "code",
   "execution_count": 54,
   "id": "2c9ea930-b27a-403e-875a-6f113f1468b9",
   "metadata": {},
   "outputs": [
    {
     "data": {
      "text/plain": [
       "float"
      ]
     },
     "execution_count": 54,
     "metadata": {},
     "output_type": "execute_result"
    }
   ],
   "source": [
    "floating_point = 56.7\n",
    "type(floater)"
   ]
  },
  {
   "cell_type": "code",
   "execution_count": 55,
   "id": "0d2a4cfc-7726-4f15-b8a3-86c9f23eb891",
   "metadata": {},
   "outputs": [
    {
     "name": "stdout",
     "output_type": "stream",
     "text": [
      "a: 1.536, id of a: 2553597837456, so a: 1.536 is good\n"
     ]
    }
   ],
   "source": [
    "a,b,c = 1.536, 'Hello', ('abcd', 883, 2.54)\n",
    "print('a: {0}, id of a: {1}, so a: {0} is good'.format(a,id(a)))"
   ]
  },
  {
   "cell_type": "code",
   "execution_count": 56,
   "id": "961ef205-e098-4e61-bad2-bda93346651a",
   "metadata": {},
   "outputs": [
    {
     "name": "stdout",
     "output_type": "stream",
     "text": [
      "a: 3, id of a: 140713937253352\n",
      "b: world, id of b: 2553614666896\n",
      "third position of c: 20.54, id of third position of c: 2553598621680\n"
     ]
    }
   ],
   "source": [
    "a,b,c = 3, 'world', ('efgh',111,20.54)\n",
    "print('a: {0}, id of a: {1}'.format(a,id(a)))\n",
    "print('b: {0}, id of b: {1}'.format(b,id(b)))\n",
    "print('third position of c: {0:.2f}, id of third position of c: {1}'.format(c[2],id(c[2])))"
   ]
  },
  {
   "cell_type": "markdown",
   "id": "b87885a4-8385-4a5e-9950-b96f8c53f0b0",
   "metadata": {},
   "source": [
    "## Mutable types"
   ]
  },
  {
   "cell_type": "code",
   "execution_count": 57,
   "id": "3a22e943-ac42-43c1-9b55-39d7435f7a20",
   "metadata": {},
   "outputs": [],
   "source": [
    "mylist = [1,2,34]\n",
    "mydict = {'one':1,'two':2}\n",
    "myset = {'no duplicates','unordered', 'no indexing', 'hashable elements'}"
   ]
  },
  {
   "cell_type": "code",
   "execution_count": 58,
   "id": "d7721bac-2472-4287-9634-d483309731a4",
   "metadata": {},
   "outputs": [
    {
     "name": "stdout",
     "output_type": "stream",
     "text": [
      "132535\n"
     ]
    }
   ],
   "source": [
    "print(hash(132535))"
   ]
  },
  {
   "cell_type": "code",
   "execution_count": 59,
   "id": "7e016047-866e-468d-8551-c9655a24a78f",
   "metadata": {},
   "outputs": [
    {
     "name": "stdout",
     "output_type": "stream",
     "text": [
      "-8117657430009652507\n"
     ]
    }
   ],
   "source": [
    "print(hash(\"Bryan\"))"
   ]
  },
  {
   "cell_type": "code",
   "execution_count": 60,
   "id": "7dd9d38e-2734-43a0-92c5-9fa56b63ad89",
   "metadata": {},
   "outputs": [
    {
     "name": "stdout",
     "output_type": "stream",
     "text": [
      "-9125010963388925893\n"
     ]
    }
   ],
   "source": [
    "print(hash(\"Colette\"))"
   ]
  },
  {
   "cell_type": "code",
   "execution_count": 61,
   "id": "ad466220-5b44-4d77-a80b-af50099be200",
   "metadata": {},
   "outputs": [
    {
     "data": {
      "text/plain": [
       "'10057865542c52c676c4f6446b6d49d2b3f5fdbcde0c63620ec00667a9393ed5'"
      ]
     },
     "execution_count": 61,
     "metadata": {},
     "output_type": "execute_result"
    }
   ],
   "source": [
    "import hashlib\n",
    "text = 'Testing SHA256'\n",
    "hash_object = hashlib.sha256(text.encode())\n",
    "hash_hex = hash_object.hexdigest()\n",
    "hash_hex"
   ]
  },
  {
   "cell_type": "code",
   "execution_count": 62,
   "id": "b7cfa728-9d3c-4031-a2e6-f970fca00506",
   "metadata": {},
   "outputs": [
    {
     "data": {
      "text/plain": [
       "[1, 2, 34, 56]"
      ]
     },
     "execution_count": 62,
     "metadata": {},
     "output_type": "execute_result"
    }
   ],
   "source": [
    "mylist.append(56)\n",
    "mylist"
   ]
  },
  {
   "cell_type": "code",
   "execution_count": 63,
   "id": "f6be6a10-a456-4668-a5c4-93ea0360d71f",
   "metadata": {},
   "outputs": [
    {
     "data": {
      "text/plain": [
       "{'Lambda', 'hashable elements', 'no duplicates', 'no indexing', 'unordered'}"
      ]
     },
     "execution_count": 63,
     "metadata": {},
     "output_type": "execute_result"
    }
   ],
   "source": [
    "myset.add('Lambda')\n",
    "myset"
   ]
  },
  {
   "cell_type": "code",
   "execution_count": 64,
   "id": "877ce3cd-4071-4cc8-abe2-a47291536dec",
   "metadata": {},
   "outputs": [
    {
     "name": "stdout",
     "output_type": "stream",
     "text": [
      "[1, 2, 34, 56, 56, 2, 6, 53, 1, 1]\n",
      "[1, 2, 34, 6, 53, 56]\n"
     ]
    }
   ],
   "source": [
    "mylist.extend([56,2,6,53,1,1])\n",
    "print(mylist)\n",
    "norepeat = list(set(mylist))\n",
    "print(norepeat)"
   ]
  },
  {
   "cell_type": "markdown",
   "id": "5dfdc9c2-5733-4850-b830-a91e2dec6b24",
   "metadata": {},
   "source": [
    "## Dictionary"
   ]
  },
  {
   "cell_type": "markdown",
   "id": "4c525346-145c-40ce-a6a8-00c908fa99bd",
   "metadata": {},
   "source": [
    "Dictionaries may use any immutable variable type as a key, and anything as a value"
   ]
  },
  {
   "cell_type": "code",
   "execution_count": 65,
   "id": "7f57527b-6ebf-4016-9b2c-864d36fd70c3",
   "metadata": {},
   "outputs": [
    {
     "name": "stdout",
     "output_type": "stream",
     "text": [
      "{'str_one': 1, 'str_two': 2, 'str_three': 3} {1: 'one', 2: 'two', 3: 'three'}\n"
     ]
    }
   ],
   "source": [
    "str_dict = {'str_one':1,\n",
    "            'str_two':2,\n",
    "            'str_three':3}\n",
    "int_dict = {1:'one',\n",
    "            2:'two',\n",
    "            3:'three'}\n",
    "print(str_dict,int_dict)"
   ]
  },
  {
   "cell_type": "code",
   "execution_count": 67,
   "id": "df667f00-9034-459d-b511-eb489717640b",
   "metadata": {},
   "outputs": [
    {
     "name": "stdout",
     "output_type": "stream",
     "text": [
      "one\n"
     ]
    }
   ],
   "source": [
    "print(int_dict[1])"
   ]
  },
  {
   "cell_type": "markdown",
   "id": "94c22e0e-81cf-42a3-a0b6-e6522d44561d",
   "metadata": {},
   "source": [
    "Even touples:"
   ]
  },
  {
   "cell_type": "code",
   "execution_count": 70,
   "id": "9e06d3ab-ba80-4b66-bb7d-5887f935969f",
   "metadata": {},
   "outputs": [
    {
     "data": {
      "text/plain": [
       "{(5, 6, 'seven', True): 'first', (9, 10, 'eleven', False): 'second'}"
      ]
     },
     "execution_count": 70,
     "metadata": {},
     "output_type": "execute_result"
    }
   ],
   "source": [
    "touple_1 = (5,6,'seven',True)\n",
    "touple_2 = (9,10,'eleven',False)\n",
    "touple_dict = {touple_1:'first',touple_2:'second'}\n",
    "touple_dict"
   ]
  },
  {
   "cell_type": "code",
   "execution_count": 71,
   "id": "bc462c76-fa61-41ce-b604-031d882f35e4",
   "metadata": {},
   "outputs": [
    {
     "data": {
      "text/plain": [
       "'first'"
      ]
     },
     "execution_count": 71,
     "metadata": {},
     "output_type": "execute_result"
    }
   ],
   "source": [
    "touple_dict[(5,6,'seven',True)]"
   ]
  },
  {
   "cell_type": "markdown",
   "id": "b5969fc6-749f-4612-a3ae-4f561d2bb685",
   "metadata": {},
   "source": [
    "## Number"
   ]
  },
  {
   "cell_type": "code",
   "execution_count": 89,
   "id": "6a8d3027-7a2c-459d-8e53-d7cd2640e8af",
   "metadata": {},
   "outputs": [
    {
     "name": "stdout",
     "output_type": "stream",
     "text": [
      "[<class 'int'>, <class 'float'>, <class 'bool'>, <class 'complex'>]\n"
     ]
    }
   ],
   "source": [
    "a,b,c,d = 20, 5.5, True, 4+3j\n",
    "numbers = [a,b,c,d]\n",
    "types = [type(num) for num in numbers]\n",
    "print(types)"
   ]
  },
  {
   "cell_type": "markdown",
   "id": "08d368b5-d842-4dd5-95c7-c2f8cbf2dd72",
   "metadata": {},
   "source": [
    "Any value that is not zero, empty, or None is True. These other examples are False."
   ]
  },
  {
   "cell_type": "code",
   "execution_count": 94,
   "id": "eb2cb5a1-80a5-4893-9fa7-f7b5929d5c64",
   "metadata": {},
   "outputs": [
    {
     "data": {
      "text/plain": [
       "[True, True, True, True]"
      ]
     },
     "execution_count": 94,
     "metadata": {},
     "output_type": "execute_result"
    }
   ],
   "source": [
    "true_vals = [bool(1),bool(-1),bool('five'),bool(0.00004)]\n",
    "true_vals"
   ]
  },
  {
   "cell_type": "code",
   "execution_count": 97,
   "id": "e4921f08-8bd3-477e-b0c1-03ef158401e1",
   "metadata": {},
   "outputs": [
    {
     "data": {
      "text/plain": [
       "[False, False, False, False]"
      ]
     },
     "execution_count": 97,
     "metadata": {},
     "output_type": "execute_result"
    }
   ],
   "source": [
    "false_vals = [bool(0),bool(0.000000),bool(None),bool('')]\n",
    "false_vals"
   ]
  },
  {
   "cell_type": "markdown",
   "id": "2aff11c9-a5f3-4f4d-82c8-7a40ee795135",
   "metadata": {},
   "source": []
  }
 ],
 "metadata": {
  "kernelspec": {
   "display_name": "Python 3 (ipykernel)",
   "language": "python",
   "name": "python3"
  },
  "language_info": {
   "codemirror_mode": {
    "name": "ipython",
    "version": 3
   },
   "file_extension": ".py",
   "mimetype": "text/x-python",
   "name": "python",
   "nbconvert_exporter": "python",
   "pygments_lexer": "ipython3",
   "version": "3.13.5"
  }
 },
 "nbformat": 4,
 "nbformat_minor": 5
}
