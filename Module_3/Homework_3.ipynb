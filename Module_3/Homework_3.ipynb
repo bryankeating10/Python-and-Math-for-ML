{
 "cells": [
  {
   "cell_type": "markdown",
   "id": "3e72597d",
   "metadata": {},
   "source": [
    "# Homework 3"
   ]
  },
  {
   "cell_type": "markdown",
   "id": "274ab2ae",
   "metadata": {},
   "source": [
    "## Problem 1 NumPy myPi(n) comparison"
   ]
  },
  {
   "cell_type": "code",
   "execution_count": 10,
   "id": "a3586897",
   "metadata": {},
   "outputs": [],
   "source": [
    "# Last week's function\n",
    "def myPi(n):\n",
    "    if n < 0:\n",
    "        raise ValueError(\"Input must be non-negative.\")\n",
    "    elif n == 0:\n",
    "        raise ValueError(\"Input must be positive.\")\n",
    "    else:\n",
    "        pi = 0\n",
    "        for k in range(1,n+1):\n",
    "            pi += (-1)**(k+1) / (2*k - 1)\n",
    "        return 4*pi\n",
    "\n",
    "# NumPy rendition\n",
    "import numpy as np\n",
    "def numpyPi(n):\n",
    "    if n < 0:\n",
    "        raise ValueError(\"Input must be non-negative.\")\n",
    "    elif n == 0:\n",
    "        raise ValueError(\"Input must be positive.\")\n",
    "    else:\n",
    "        k = np.arange(1, n+1)\n",
    "        pi = np.sum((-1)**(k+1) / (2*k - 1))\n",
    "        return 4*pi"
   ]
  },
  {
   "cell_type": "code",
   "execution_count": 11,
   "id": "c262bc29",
   "metadata": {},
   "outputs": [
    {
     "name": "stdout",
     "output_type": "stream",
     "text": [
      "myPi: 3.0418396189294032\n",
      "numpyPi: 3.0418396189294024\n"
     ]
    }
   ],
   "source": [
    "# Test both functions\n",
    "n = 10\n",
    "print(\"myPi:\", myPi(n))\n",
    "print(\"numpyPi:\", numpyPi(n))"
   ]
  },
  {
   "cell_type": "code",
   "execution_count": 12,
   "id": "39b1315b",
   "metadata": {},
   "outputs": [
    {
     "name": "stdout",
     "output_type": "stream",
     "text": [
      "myPi: 3.140592653839794\n",
      "numpyPi: 3.140592653839792\n"
     ]
    }
   ],
   "source": [
    "n = 1000\n",
    "print(\"myPi:\", myPi(n))\n",
    "print(\"numpyPi:\", numpyPi(n))"
   ]
  },
  {
   "cell_type": "code",
   "execution_count": 13,
   "id": "d7898694",
   "metadata": {},
   "outputs": [
    {
     "name": "stdout",
     "output_type": "stream",
     "text": [
      "myPi: 3.1415916535897743\n",
      "numpyPi: 3.141591653589794\n"
     ]
    }
   ],
   "source": [
    "n = 1000000\n",
    "print(\"myPi:\", myPi(n))\n",
    "print(\"numpyPi:\", numpyPi(n))"
   ]
  },
  {
   "cell_type": "code",
   "execution_count": 15,
   "id": "3102c00a",
   "metadata": {},
   "outputs": [
    {
     "name": "stdout",
     "output_type": "stream",
     "text": [
      "266 ms ± 4.42 ms per loop (mean ± std. dev. of 7 runs, 1 loop each)\n",
      "52.5 ms ± 560 μs per loop (mean ± std. dev. of 7 runs, 10 loops each)\n",
      "myPi average time: 0.265980999995788\n",
      "numpyPi average time: 0.0524908257149426\n",
      "NumPy version averaged 5.07 times faster than myPi.\n"
     ]
    }
   ],
   "source": [
    "# Compare times\n",
    "myPi_time = %timeit -o myPi(n)\n",
    "numpyPi_time = %timeit -o numpyPi(n)\n",
    "\n",
    "print(\"myPi average time:\", myPi_time.average)\n",
    "print(\"numpyPi average time:\", numpyPi_time.average)\n",
    "print(\"NumPy version averaged\", round(myPi_time.average / numpyPi_time.average,2), \"times faster than myPi.\")"
   ]
  },
  {
   "cell_type": "markdown",
   "id": "8c0549f6",
   "metadata": {},
   "source": [
    "## Problem 2: One-Line Manhattan Code"
   ]
  },
  {
   "cell_type": "code",
   "execution_count": 28,
   "id": "d86b6c32",
   "metadata": {},
   "outputs": [],
   "source": [
    "manhattan = lambda p, q: sum(abs(a-b) for a, b in zip(p, q))\n"
   ]
  },
  {
   "cell_type": "code",
   "execution_count": 34,
   "id": "2c07bf74",
   "metadata": {},
   "outputs": [
    {
     "name": "stdout",
     "output_type": "stream",
     "text": [
      "9\n"
     ]
    }
   ],
   "source": [
    "# Test cases\n",
    "p = (1, 2, 3)\n",
    "q = (4, 5, 6)\n",
    "print(manhattan(p, q))"
   ]
  },
  {
   "cell_type": "code",
   "execution_count": 38,
   "id": "c869ef5f",
   "metadata": {},
   "outputs": [
    {
     "name": "stdout",
     "output_type": "stream",
     "text": [
      "The manhattan distance between [-9  1  0] and [-3  4 -9] is: 18\n"
     ]
    }
   ],
   "source": [
    "p2 = np.random.randint(-10, 10, size=3)\n",
    "q2 = np.random.randint(-10, 10, size=3)\n",
    "print(\"The manhattan distance between {0} and {1} is:\".format(p2, q2), manhattan(p2, q2))"
   ]
  },
  {
   "cell_type": "code",
   "execution_count": 40,
   "id": "c307582a",
   "metadata": {},
   "outputs": [
    {
     "name": "stdout",
     "output_type": "stream",
     "text": [
      "The manhattan distance between [-94  -9  81  14 -72   4  92  85  83  19] and [ 17 -70  23  91  82 -84  59 -97  18   1] is: 847\n"
     ]
    }
   ],
   "source": [
    "p3 = np.random.randint(-100, 100, size=10)\n",
    "q3 = np.random.randint(-100, 100, size=10)\n",
    "print(\"The manhattan distance between {0} and {1} is:\".format(p3, q3), manhattan(p3, q3))"
   ]
  },
  {
   "cell_type": "markdown",
   "id": "3c7d08f3",
   "metadata": {},
   "source": [
    "## Problem 3: One-Line Correlation Code"
   ]
  },
  {
   "cell_type": "code",
   "execution_count": 41,
   "id": "d36589c9",
   "metadata": {},
   "outputs": [],
   "source": [
    "correlation = lambda x, y: np.cov(x, y, bias=True)[0,1] / (np.std(x) * np.std(y))"
   ]
  },
  {
   "cell_type": "code",
   "execution_count": 43,
   "id": "ac495841",
   "metadata": {},
   "outputs": [
    {
     "name": "stdout",
     "output_type": "stream",
     "text": [
      "The correlation between /n [0.59704795 0.30941056 0.20589386 0.39367644 0.33459662 0.05798345\n",
      " 0.82764836 0.23262542 0.43373925 0.09739228] and [0.74447525 0.65244121 0.11844665 0.98023587 0.37252373 0.18505858\n",
      " 0.66361149 0.48118084 0.45766938 0.45924076] is: 0.5760790521683852\n"
     ]
    }
   ],
   "source": [
    "# Random test\n",
    "x = np.random.rand(10)\n",
    "y = np.random.rand(10)\n",
    "print(\"The correlation between /n {0} and {1} is:\".format(x, y), correlation(x, y))"
   ]
  },
  {
   "cell_type": "code",
   "execution_count": 51,
   "id": "26dc6f2b",
   "metadata": {},
   "outputs": [
    {
     "name": "stdout",
     "output_type": "stream",
     "text": [
      "The correlation between /n [-1.22475534 -0.70473031  1.20350096  0.24843725  0.66831527  0.0419887\n",
      " -0.27831941  1.17608576 -0.60382708 -1.18409159] and [-2.39017324 -1.75623712  3.32197381  0.91296601  1.7031003  -0.38270057\n",
      " -1.51747587  3.30626928 -2.15531731 -1.72316253] is: 0.9603178536418016\n"
     ]
    }
   ],
   "source": [
    "# Artificially correlated data\n",
    "x = np.random.randn(10)\n",
    "y = 2*x + np.random.randn(10)*0.7\n",
    "print(\"The correlation between /n {0} and {1} is:\".format(x, y), correlation(x, y))\n"
   ]
  },
  {
   "cell_type": "markdown",
   "id": "a9f28bea",
   "metadata": {},
   "source": [
    "## Problem 4 One-Line Fibonnaci Code"
   ]
  },
  {
   "cell_type": "code",
   "execution_count": null,
   "id": "731b094e",
   "metadata": {},
   "outputs": [
    {
     "name": "stdout",
     "output_type": "stream",
     "text": [
      "[0, 1, 1, 2, 3, 5, 8, 13, 21, 34, 55, 89, 144, 233, 377, 610, 987]\n"
     ]
    }
   ],
   "source": [
    "import itertools;\n",
    "n = 17\n",
    "fib = lambda n: [a for a, _ in itertools.islice(itertools.accumulate(range(n), lambda x, _: (x[1], x[0]+x[1]), initial=(0,1)), n)]"
   ]
  },
  {
   "cell_type": "code",
   "execution_count": 23,
   "id": "e6c02606",
   "metadata": {},
   "outputs": [
    {
     "name": "stdout",
     "output_type": "stream",
     "text": [
      "[0, 1, 1]\n"
     ]
    }
   ],
   "source": [
    "# Test cases\n",
    "n = 3\n",
    "print(fib(n))"
   ]
  },
  {
   "cell_type": "code",
   "execution_count": 26,
   "id": "2d139ebf",
   "metadata": {},
   "outputs": [
    {
     "name": "stdout",
     "output_type": "stream",
     "text": [
      "[0, 1, 1, 2, 3, 5, 8, 13, 21, 34]\n"
     ]
    }
   ],
   "source": [
    "n = 10\n",
    "print(fib(n))"
   ]
  },
  {
   "cell_type": "code",
   "execution_count": 27,
   "id": "3eb19051",
   "metadata": {},
   "outputs": [
    {
     "name": "stdout",
     "output_type": "stream",
     "text": [
      "[0, 1, 1, 2, 3, 5, 8, 13, 21, 34, 55, 89, 144, 233, 377, 610, 987, 1597, 2584, 4181, 6765, 10946, 17711, 28657, 46368, 75025, 121393, 196418, 317811, 514229]\n"
     ]
    }
   ],
   "source": [
    "n = 30\n",
    "print(fib(n))"
   ]
  }
 ],
 "metadata": {
  "kernelspec": {
   "display_name": "base",
   "language": "python",
   "name": "python3"
  },
  "language_info": {
   "codemirror_mode": {
    "name": "ipython",
    "version": 3
   },
   "file_extension": ".py",
   "mimetype": "text/x-python",
   "name": "python",
   "nbconvert_exporter": "python",
   "pygments_lexer": "ipython3",
   "version": "3.13.5"
  }
 },
 "nbformat": 4,
 "nbformat_minor": 5
}
