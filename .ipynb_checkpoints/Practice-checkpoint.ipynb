{
 "cells": [
  {
   "cell_type": "markdown",
   "id": "5327b5a8-0d8b-476f-b784-a705cb9a5c49",
   "metadata": {},
   "source": [
    "# Naming Variables"
   ]
  },
  {
   "cell_type": "markdown",
   "id": "48d4cd34-cb1b-47ac-bfc2-b6fc11607c99",
   "metadata": {},
   "source": [
    "## Rules"
   ]
  },
  {
   "attachments": {},
   "cell_type": "markdown",
   "id": "58b2c413-1d1f-47f6-8f95-2fe93523a1f9",
   "metadata": {},
   "source": [
    "Variables must start with a letter or underscore and cannot start with a number. Varaible names are case sensitive."
   ]
  },
  {
   "cell_type": "code",
   "execution_count": 4,
   "id": "34fc6400-dd99-472e-84c0-943f1be9cae3",
   "metadata": {},
   "outputs": [
    {
     "data": {
      "text/plain": [
       "5"
      ]
     },
     "execution_count": 4,
     "metadata": {},
     "output_type": "execute_result"
    }
   ],
   "source": [
    "underscore = 5\n",
    "underscore"
   ]
  },
  {
   "cell_type": "code",
   "execution_count": 5,
   "id": "fcd605ee-4573-4521-84e8-119047918c0a",
   "metadata": {},
   "outputs": [
    {
     "data": {
      "text/plain": [
       "6"
      ]
     },
     "execution_count": 5,
     "metadata": {},
     "output_type": "execute_result"
    }
   ],
   "source": [
    "_underscore = 6\n",
    "_underscore"
   ]
  },
  {
   "cell_type": "code",
   "execution_count": 6,
   "id": "3656dba8-cf42-4db8-8265-bb6d2cb90467",
   "metadata": {},
   "outputs": [
    {
     "ename": "SyntaxError",
     "evalue": "invalid decimal literal (2941957570.py, line 1)",
     "output_type": "error",
     "traceback": [
      "  \u001b[36mCell\u001b[39m\u001b[36m \u001b[39m\u001b[32mIn[6]\u001b[39m\u001b[32m, line 1\u001b[39m\n\u001b[31m    \u001b[39m\u001b[31m8number = 7\u001b[39m\n    ^\n\u001b[31mSyntaxError\u001b[39m\u001b[31m:\u001b[39m invalid decimal literal\n"
     ]
    }
   ],
   "source": [
    "8number = 7\n",
    "8number"
   ]
  },
  {
   "cell_type": "code",
   "execution_count": 7,
   "id": "c49f8082-3d2e-41d0-a2ed-3944c66e0626",
   "metadata": {},
   "outputs": [
    {
     "data": {
      "text/plain": [
       "8"
      ]
     },
     "execution_count": 7,
     "metadata": {},
     "output_type": "execute_result"
    }
   ],
   "source": [
    "number8 = 8\n",
    "number8 "
   ]
  },
  {
   "cell_type": "markdown",
   "id": "32c9fcea-92ed-443b-98e1-30ca0dffb3d3",
   "metadata": {},
   "source": [
    "## Convention"
   ]
  },
  {
   "cell_type": "markdown",
   "id": "eb9865c5-f039-43b6-8434-580e1d93528b",
   "metadata": {},
   "source": [
    "Prioritize readability by using underscores to separate words and \n",
    "avoiding using 'l','I', and 'O' since they are hard to distiguish\n",
    "from other characters"
   ]
  },
  {
   "cell_type": "code",
   "execution_count": 8,
   "id": "ea76d59a-80d8-446c-a86f-c3f59abc8e42",
   "metadata": {},
   "outputs": [
    {
     "data": {
      "text/plain": [
       "'bryan'"
      ]
     },
     "execution_count": 8,
     "metadata": {},
     "output_type": "execute_result"
    }
   ],
   "source": [
    "student_name = \"bryan\"\n",
    "student_name"
   ]
  },
  {
   "cell_type": "markdown",
   "id": "51ba65d4-5e31-414d-8c86-de27d959f3b4",
   "metadata": {},
   "source": [
    "Do not use python keywords as variable names"
   ]
  },
  {
   "cell_type": "code",
   "execution_count": 9,
   "id": "2132276d-508c-4438-9156-ddc3ef81d743",
   "metadata": {},
   "outputs": [
    {
     "name": "stdout",
     "output_type": "stream",
     "text": [
      "['False', 'None', 'True', 'and', 'as', 'assert', 'async', 'await', 'break', 'class', 'continue', 'def', 'del', 'elif', 'else', 'except', 'finally', 'for', 'from', 'global', 'if', 'import', 'in', 'is', 'lambda', 'nonlocal', 'not', 'or', 'pass', 'raise', 'return', 'try', 'while', 'with', 'yield']\n"
     ]
    }
   ],
   "source": [
    "import keyword\n",
    "print(keyword.kwlist)"
   ]
  },
  {
   "cell_type": "markdown",
   "id": "8819f835-7a4f-4793-a2da-d3cb09d68a9a",
   "metadata": {},
   "source": [
    "## Breaking Long Lines of Code"
   ]
  },
  {
   "cell_type": "code",
   "execution_count": 13,
   "id": "5b9349ea-db7e-484c-9bd3-288e4c2a38eb",
   "metadata": {},
   "outputs": [
    {
     "data": {
      "text/plain": [
       "['First place item name', 'Second place item name', 'Third place item name']"
      ]
     },
     "execution_count": 13,
     "metadata": {},
     "output_type": "execute_result"
    }
   ],
   "source": [
    "total = ['First place item name',\n",
    "         'Second place item name',\n",
    "         'Third place item name']\n",
    "total"
   ]
  },
  {
   "cell_type": "code",
   "execution_count": 12,
   "id": "823a1dc3-5137-4c07-a95a-715e7f9c5949",
   "metadata": {},
   "outputs": [
    {
     "data": {
      "text/plain": [
       "list"
      ]
     },
     "execution_count": 12,
     "metadata": {},
     "output_type": "execute_result"
    }
   ],
   "source": [
    "type(total)"
   ]
  },
  {
   "cell_type": "markdown",
   "id": "116663a6-0f3a-43f2-b903-988076f8051f",
   "metadata": {},
   "source": [
    "# Random Notes"
   ]
  },
  {
   "cell_type": "markdown",
   "id": "d1bd0ef1-93ea-4373-b80b-e50e5ff39116",
   "metadata": {},
   "source": [
    "## Dates and Times"
   ]
  },
  {
   "cell_type": "code",
   "execution_count": 15,
   "id": "9cc94c9e-4cd2-446d-87cf-ba137218b8f9",
   "metadata": {},
   "outputs": [
    {
     "data": {
      "text/plain": [
       "2"
      ]
     },
     "execution_count": 15,
     "metadata": {},
     "output_type": "execute_result"
    }
   ],
   "source": [
    "from datetime import datetime, date, time\n",
    "dt = datetime(2011,10,29,20,30,2)\n",
    "dt.second"
   ]
  },
  {
   "cell_type": "code",
   "execution_count": null,
   "id": "07282fc8-7ae7-48e4-8f9c-16b5bd3a0a0d",
   "metadata": {},
   "outputs": [],
   "source": []
  }
 ],
 "metadata": {
  "kernelspec": {
   "display_name": "Python 3 (ipykernel)",
   "language": "python",
   "name": "python3"
  },
  "language_info": {
   "codemirror_mode": {
    "name": "ipython",
    "version": 3
   },
   "file_extension": ".py",
   "mimetype": "text/x-python",
   "name": "python",
   "nbconvert_exporter": "python",
   "pygments_lexer": "ipython3",
   "version": "3.13.5"
  }
 },
 "nbformat": 4,
 "nbformat_minor": 5
}
