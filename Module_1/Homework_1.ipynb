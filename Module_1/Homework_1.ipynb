{
 "cells": [
  {
   "cell_type": "markdown",
   "id": "ba2214ee-e734-4377-8678-de8b0889a704",
   "metadata": {},
   "source": [
    "# Homework 1"
   ]
  },
  {
   "cell_type": "markdown",
   "id": "7f278800-4c61-46e3-aa48-26c658b83fa9",
   "metadata": {},
   "source": [
    "## Problem 0: Install Anaconda and launch Jupyter Notebook"
   ]
  },
  {
   "cell_type": "code",
   "execution_count": 23,
   "id": "0398f628-9327-4d6f-b79d-194d4b620904",
   "metadata": {},
   "outputs": [
    {
     "data": {
      "text/plain": [
       "'In Jupyter kernel'"
      ]
     },
     "execution_count": 23,
     "metadata": {},
     "output_type": "execute_result"
    }
   ],
   "source": [
    "import sys\n",
    "'In Jupyter kernel' if 'ipykernel' in sys.modules else ''"
   ]
  },
  {
   "cell_type": "markdown",
   "id": "fcf2ad5f-6569-411a-b460-68efbabb7376",
   "metadata": {},
   "source": [
    "## Problem 1: Check prime number"
   ]
  },
  {
   "cell_type": "code",
   "execution_count": 16,
   "id": "c16e27f4-062a-4852-bed7-6aa51ef079a7",
   "metadata": {},
   "outputs": [
    {
     "name": "stdout",
     "output_type": "stream",
     "text": [
      "Enter an integer:  3245234532\n"
     ]
    },
    {
     "name": "stdout",
     "output_type": "stream",
     "text": [
      "Composite\n"
     ]
    }
   ],
   "source": [
    "from math import sqrt\n",
    "\n",
    "x = int(input('Enter an integer: '))\n",
    "primes = [2]\n",
    "if x < 2:\n",
    "    print('Composite')\n",
    "else:\n",
    "    test = 3\n",
    "    is_composite = False\n",
    "    while test <= int(sqrt(x)) + 1:\n",
    "        for p in primes:\n",
    "            if x % p == 0:\n",
    "                print('Composite')\n",
    "                is_composite = True\n",
    "                break\n",
    "        if is_composite:\n",
    "            break\n",
    "        divisible = any(test % p == 0 for p in primes)\n",
    "        if not divisible:\n",
    "            primes.append(test)\n",
    "        test += 2\n",
    "    if not is_composite:\n",
    "        print('Prime')"
   ]
  },
  {
   "cell_type": "markdown",
   "id": "d8b54799-0719-448b-aab1-ed6613c16afe",
   "metadata": {},
   "source": [
    "## Problem 2: Triangular Number"
   ]
  },
  {
   "cell_type": "code",
   "execution_count": 22,
   "id": "b0f71375-ad02-4698-b169-c759452fc50c",
   "metadata": {},
   "outputs": [
    {
     "name": "stdout",
     "output_type": "stream",
     "text": [
      "Enter an integer:  18\n"
     ]
    },
    {
     "data": {
      "text/plain": [
       "171"
      ]
     },
     "execution_count": 22,
     "metadata": {},
     "output_type": "execute_result"
    }
   ],
   "source": [
    "x = int(input('Enter an integer: '))\n",
    "y = range(x+1)\n",
    "sum(y)"
   ]
  }
 ],
 "metadata": {
  "kernelspec": {
   "display_name": "base",
   "language": "python",
   "name": "python3"
  },
  "language_info": {
   "codemirror_mode": {
    "name": "ipython",
    "version": 3
   },
   "file_extension": ".py",
   "mimetype": "text/x-python",
   "name": "python",
   "nbconvert_exporter": "python",
   "pygments_lexer": "ipython3",
   "version": "3.13.5"
  }
 },
 "nbformat": 4,
 "nbformat_minor": 5
}
