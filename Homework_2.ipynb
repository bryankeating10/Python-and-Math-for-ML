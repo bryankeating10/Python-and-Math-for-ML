{
 "cells": [
  {
   "cell_type": "markdown",
   "id": "355daa39",
   "metadata": {},
   "source": [
    "# Homework 2"
   ]
  },
  {
   "cell_type": "markdown",
   "id": "8ea636e2",
   "metadata": {},
   "source": [
    "## Problem 1: Recursive square root function"
   ]
  },
  {
   "cell_type": "markdown",
   "id": "e48c44e3",
   "metadata": {},
   "source": [
    "Solution"
   ]
  },
  {
   "cell_type": "code",
   "execution_count": null,
   "id": "94038bc9",
   "metadata": {},
   "outputs": [],
   "source": [
    "def squareRoot(x):\n",
    "    if x < 0:\n",
    "        raise ValueError(\"Input must be non-negative.\")\n",
    "    if x == 0:\n",
    "        return 0.0\n",
    "\n",
    "    def recurse(current):\n",
    "        next_guess = current - (current**2 - x) / (2 * current)\n",
    "        if abs(next_guess - current) < 1e-10:\n",
    "            return next_guess\n",
    "        return recurse(next_guess)\n",
    "\n",
    "    return recurse(x)\n",
    "    "
   ]
  },
  {
   "cell_type": "markdown",
   "id": "29c1b725",
   "metadata": {},
   "source": [
    "Testing square root function"
   ]
  },
  {
   "cell_type": "code",
   "execution_count": null,
   "id": "9359a015",
   "metadata": {},
   "outputs": [],
   "source": [
    "squareRoot(15)"
   ]
  },
  {
   "cell_type": "code",
   "execution_count": null,
   "id": "325f5976",
   "metadata": {},
   "outputs": [],
   "source": [
    "squareRoot(625)"
   ]
  },
  {
   "cell_type": "code",
   "execution_count": null,
   "id": "aa576b14",
   "metadata": {},
   "outputs": [],
   "source": [
    "squareRoot(0)"
   ]
  },
  {
   "cell_type": "code",
   "execution_count": null,
   "id": "d78e2431",
   "metadata": {},
   "outputs": [],
   "source": [
    "squareRoot(-4)"
   ]
  },
  {
   "cell_type": "markdown",
   "id": "91143dfb",
   "metadata": {},
   "source": [
    "## Problem 2: Recursive pi calculator by Gregory series"
   ]
  },
  {
   "cell_type": "markdown",
   "id": "d7d58a91",
   "metadata": {},
   "source": [
    "Solution"
   ]
  },
  {
   "cell_type": "code",
   "execution_count": null,
   "id": "a0eedbcb",
   "metadata": {},
   "outputs": [],
   "source": [
    "def myPi(n):\n",
    "    if n < 0:\n",
    "        raise ValueError(\"Input must be non-negative.\")\n",
    "    elif n == 0:\n",
    "        raise ValueError(\"Input must be positive.\")\n",
    "    else:\n",
    "        pi = 0\n",
    "        for k in range(1,n+1):\n",
    "            pi += (-1)**(k+1) / (2*k - 1)\n",
    "        return 4*pi\n"
   ]
  },
  {
   "cell_type": "markdown",
   "id": "a05e42de",
   "metadata": {},
   "source": [
    "Testing"
   ]
  },
  {
   "cell_type": "code",
   "execution_count": null,
   "id": "20490cbf",
   "metadata": {},
   "outputs": [],
   "source": [
    "myPi(10)"
   ]
  },
  {
   "cell_type": "code",
   "execution_count": null,
   "id": "e96bcdad",
   "metadata": {},
   "outputs": [],
   "source": [
    "myPi(1000)"
   ]
  },
  {
   "cell_type": "code",
   "execution_count": null,
   "id": "8ca1937d",
   "metadata": {},
   "outputs": [],
   "source": [
    "import matplotlib.pyplot as plt\n",
    "import numpy as np\n",
    "\n",
    "x = np.logspace(0, 6, num=100)\n",
    "y = np.array([myPi(int(i)) for i in x])\n",
    "\n",
    "plt.plot(x, y, label='Gregory approx. $\\pi$', color='red')\n",
    "plt.axhline(np.pi, color='blue', linestyle=':', linewidth=1, label='$\\pi$ (reference)')\n",
    "plt.xscale('log')\n",
    "plt.xlabel('Number of terms (log scale)')\n",
    "plt.ylabel('Approximation of $\\pi$')\n",
    "plt.title('Convergence of $\\pi$ Approximation')\n",
    "plt.legend()\n",
    "plt.grid()\n",
    "plt.show()\n"
   ]
  },
  {
   "cell_type": "markdown",
   "id": "aeeb2ffe",
   "metadata": {},
   "source": []
  },
  {
   "cell_type": "markdown",
   "id": "36168ecf",
   "metadata": {},
   "source": [
    "## Problem 3: Prime number list"
   ]
  },
  {
   "cell_type": "markdown",
   "id": "46f970bb",
   "metadata": {},
   "source": [
    "Solution"
   ]
  },
  {
   "cell_type": "code",
   "execution_count": null,
   "id": "97963fab",
   "metadata": {},
   "outputs": [],
   "source": [
    "primes = list(range(2, 1000))\n",
    "i = 2\n",
    "while i * i < primes[-1]:\n",
    "    if i in primes:\n",
    "        for j in range(i * 2, primes[-1] + 1, i):\n",
    "            if j in primes:\n",
    "                primes.remove(j)\n",
    "    i += 1"
   ]
  },
  {
   "cell_type": "markdown",
   "id": "1986f09b",
   "metadata": {},
   "source": [
    "Testing"
   ]
  },
  {
   "cell_type": "code",
   "execution_count": null,
   "id": "dd5bf16c",
   "metadata": {},
   "outputs": [],
   "source": [
    "print(primes)"
   ]
  },
  {
   "cell_type": "code",
   "execution_count": null,
   "id": "5f7ab414",
   "metadata": {},
   "outputs": [],
   "source": []
  }
 ],
 "metadata": {
  "kernelspec": {
   "display_name": "base",
   "language": "python",
   "name": "python3"
  },
  "language_info": {
   "codemirror_mode": {
    "name": "ipython",
    "version": 3
   },
   "file_extension": ".py",
   "mimetype": "text/x-python",
   "name": "python",
   "nbconvert_exporter": "python",
   "pygments_lexer": "ipython3",
   "version": "3.13.5"
  }
 },
 "nbformat": 4,
 "nbformat_minor": 5
}
