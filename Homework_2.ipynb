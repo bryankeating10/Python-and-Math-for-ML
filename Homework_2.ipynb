{
 "cells": [
  {
   "cell_type": "markdown",
   "id": "355daa39",
   "metadata": {},
   "source": [
    "# Homework 2"
   ]
  },
  {
   "cell_type": "markdown",
   "id": "8ea636e2",
   "metadata": {},
   "source": [
    "## Problem 1: Recursive square root function"
   ]
  },
  {
   "cell_type": "markdown",
   "id": "e48c44e3",
   "metadata": {},
   "source": [
    "Solution"
   ]
  },
  {
   "cell_type": "code",
   "execution_count": null,
   "id": "94038bc9",
   "metadata": {},
   "outputs": [],
   "source": [
    "def squareRoot(x):\n",
    "    if x < 0:\n",
    "        raise ValueError(\"Cannot compute square root of negative number\")\n",
    "    elif x == 0:\n",
    "        return 0\n",
    "    else:\n",
    "        guess = x / 2.0\n",
    "        epsilon = 1e-10 # precision of the result to stop at\n",
    "        while abs(guess * guess - x) >= epsilon:\n",
    "            guess = guess - (((guess ** 2) - x) / (2 * guess))\n",
    "        return guess\n",
    "    "
   ]
  },
  {
   "cell_type": "markdown",
   "id": "29c1b725",
   "metadata": {},
   "source": [
    "Testing square root function"
   ]
  },
  {
   "cell_type": "code",
   "execution_count": 20,
   "id": "9359a015",
   "metadata": {},
   "outputs": [
    {
     "data": {
      "text/plain": [
       "3.872983346207418"
      ]
     },
     "execution_count": 20,
     "metadata": {},
     "output_type": "execute_result"
    }
   ],
   "source": [
    "squareRoot(15)"
   ]
  },
  {
   "cell_type": "code",
   "execution_count": 21,
   "id": "325f5976",
   "metadata": {},
   "outputs": [
    {
     "data": {
      "text/plain": [
       "25.0"
      ]
     },
     "execution_count": 21,
     "metadata": {},
     "output_type": "execute_result"
    }
   ],
   "source": [
    "squareRoot(625)"
   ]
  },
  {
   "cell_type": "code",
   "execution_count": 19,
   "id": "aa576b14",
   "metadata": {},
   "outputs": [
    {
     "data": {
      "text/plain": [
       "0"
      ]
     },
     "execution_count": 19,
     "metadata": {},
     "output_type": "execute_result"
    }
   ],
   "source": [
    "squareRoot(0)"
   ]
  },
  {
   "cell_type": "code",
   "execution_count": 18,
   "id": "d78e2431",
   "metadata": {},
   "outputs": [
    {
     "ename": "ValueError",
     "evalue": "Cannot compute square root of negative number",
     "output_type": "error",
     "traceback": [
      "\u001b[31m---------------------------------------------------------------------------\u001b[39m",
      "\u001b[31mValueError\u001b[39m                                Traceback (most recent call last)",
      "\u001b[36mCell\u001b[39m\u001b[36m \u001b[39m\u001b[32mIn[18]\u001b[39m\u001b[32m, line 1\u001b[39m\n\u001b[32m----> \u001b[39m\u001b[32m1\u001b[39m \u001b[43msquareRoot\u001b[49m\u001b[43m(\u001b[49m\u001b[43m-\u001b[49m\u001b[32;43m4\u001b[39;49m\u001b[43m)\u001b[49m\n",
      "\u001b[36mCell\u001b[39m\u001b[36m \u001b[39m\u001b[32mIn[16]\u001b[39m\u001b[32m, line 3\u001b[39m, in \u001b[36msquareRoot\u001b[39m\u001b[34m(x)\u001b[39m\n\u001b[32m      1\u001b[39m \u001b[38;5;28;01mdef\u001b[39;00m\u001b[38;5;250m \u001b[39m\u001b[34msquareRoot\u001b[39m(x):\n\u001b[32m      2\u001b[39m     \u001b[38;5;28;01mif\u001b[39;00m x < \u001b[32m0\u001b[39m:\n\u001b[32m----> \u001b[39m\u001b[32m3\u001b[39m         \u001b[38;5;28;01mraise\u001b[39;00m \u001b[38;5;167;01mValueError\u001b[39;00m(\u001b[33m\"\u001b[39m\u001b[33mCannot compute square root of negative number\u001b[39m\u001b[33m\"\u001b[39m)\n\u001b[32m      4\u001b[39m     \u001b[38;5;28;01melif\u001b[39;00m x == \u001b[32m0\u001b[39m:\n\u001b[32m      5\u001b[39m         \u001b[38;5;28;01mreturn\u001b[39;00m \u001b[32m0\u001b[39m\n",
      "\u001b[31mValueError\u001b[39m: Cannot compute square root of negative number"
     ]
    }
   ],
   "source": [
    "squareRoot(-4)"
   ]
  },
  {
   "cell_type": "markdown",
   "id": "91143dfb",
   "metadata": {},
   "source": [
    "## Problem 2: Recursive pi calculator by Gregory series"
   ]
  },
  {
   "cell_type": "code",
   "execution_count": null,
   "id": "a0eedbcb",
   "metadata": {},
   "outputs": [],
   "source": [
    "def miPi(n):\n",
    "    "
   ]
  },
  {
   "cell_type": "markdown",
   "id": "36168ecf",
   "metadata": {},
   "source": [
    "## Problem 3: Prime number list"
   ]
  },
  {
   "cell_type": "code",
   "execution_count": null,
   "id": "97963fab",
   "metadata": {},
   "outputs": [
    {
     "name": "stdout",
     "output_type": "stream",
     "text": [
      "[1, 2, 3, 5, 7, 11, 13, 17, 19, 23, 29, 31, 37, 41, 43, 47, 53, 59, 61, 67, 71, 73, 79, 83, 89, 97, 101, 103, 107, 109, 113, 127, 131, 137, 139, 149, 151, 157, 163, 167, 173, 179, 181, 191, 193, 197, 199, 211, 223, 227, 229, 233, 239, 241, 251, 257, 263, 269, 271, 277, 281, 283, 293, 307, 311, 313, 317, 331, 337, 347, 349, 353, 359, 367, 373, 379, 383, 389, 397, 401, 409, 419, 421, 431, 433, 439, 443, 449, 457, 461, 463, 467, 479, 487, 491, 499, 503, 509, 521, 523, 541, 547, 557, 563, 569, 571, 577, 587, 593, 599, 601, 607, 613, 617, 619, 631, 641, 643, 647, 653, 659, 661, 673, 677, 683, 691, 701, 709, 719, 727, 733, 739, 743, 751, 757, 761, 769, 773, 787, 797, 809, 811, 821, 823, 827, 829, 839, 853, 857, 859, 863, 877, 881, 883, 887, 907, 911, 919, 929, 937, 941, 947, 953, 967, 971, 977, 983, 991, 997]\n"
     ]
    }
   ],
   "source": [
    "primes = list(range(2, 1000))\n",
    "i = 2\n",
    "while i * i < primes[-1]:\n",
    "    if i in primes:\n",
    "        for j in range(i * 2, primes[-1] + 1, i):\n",
    "            if j in primes:\n",
    "                primes.remove(j)\n",
    "    i += 1\n",
    "print(primes)"
   ]
  },
  {
   "cell_type": "code",
   "execution_count": null,
   "id": "dd5bf16c",
   "metadata": {},
   "outputs": [],
   "source": []
  }
 ],
 "metadata": {
  "kernelspec": {
   "display_name": "base",
   "language": "python",
   "name": "python3"
  },
  "language_info": {
   "codemirror_mode": {
    "name": "ipython",
    "version": 3
   },
   "file_extension": ".py",
   "mimetype": "text/x-python",
   "name": "python",
   "nbconvert_exporter": "python",
   "pygments_lexer": "ipython3",
   "version": "3.13.5"
  }
 },
 "nbformat": 4,
 "nbformat_minor": 5
}
