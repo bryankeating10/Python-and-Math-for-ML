{
 "cells": [
  {
   "cell_type": "markdown",
   "id": "355daa39",
   "metadata": {},
   "source": [
    "# Homework 2"
   ]
  },
  {
   "cell_type": "markdown",
   "id": "8ea636e2",
   "metadata": {},
   "source": [
    "## Problem 1: Recursive square root function"
   ]
  },
  {
   "cell_type": "code",
   "execution_count": null,
   "id": "94038bc9",
   "metadata": {},
   "outputs": [],
   "source": [
    "def squareRoot(x):\n",
    "    "
   ]
  },
  {
   "cell_type": "markdown",
   "id": "91143dfb",
   "metadata": {},
   "source": [
    "## Problem 2: Recursive pi calculator by Gregory series"
   ]
  },
  {
   "cell_type": "code",
   "execution_count": null,
   "id": "a0eedbcb",
   "metadata": {},
   "outputs": [],
   "source": [
    "def miPi(n):\n",
    "    "
   ]
  },
  {
   "cell_type": "markdown",
   "id": "36168ecf",
   "metadata": {},
   "source": [
    "## Problem 3: Prime number list"
   ]
  },
  {
   "cell_type": "code",
   "execution_count": null,
   "id": "97963fab",
   "metadata": {},
   "outputs": [
    {
     "name": "stdout",
     "output_type": "stream",
     "text": [
      "[0, 1, 2]\n"
     ]
    }
   ],
   "source": [
    "primes = list(range(1, 1000))\n",
    "i = 1\n",
    "while i < primes"
   ]
  },
  {
   "cell_type": "code",
   "execution_count": null,
   "id": "8f789203",
   "metadata": {},
   "outputs": [],
   "source": []
  }
 ],
 "metadata": {
  "kernelspec": {
   "display_name": "base",
   "language": "python",
   "name": "python3"
  },
  "language_info": {
   "codemirror_mode": {
    "name": "ipython",
    "version": 3
   },
   "file_extension": ".py",
   "mimetype": "text/x-python",
   "name": "python",
   "nbconvert_exporter": "python",
   "pygments_lexer": "ipython3",
   "version": "3.13.5"
  }
 },
 "nbformat": 4,
 "nbformat_minor": 5
}
