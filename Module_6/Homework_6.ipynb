{
 "cells": [
  {
   "cell_type": "markdown",
   "id": "345c43c2",
   "metadata": {},
   "source": [
    "# **Homework 6 - Visualize Treasury Yield Curve Rates**"
   ]
  },
  {
   "cell_type": "markdown",
   "id": "aadaee2f",
   "metadata": {},
   "source": [
    "## Question 1 - Data preparation\n",
    "Download October 2023 Daily Treasury Par Yield Curve Rates as a CSV file and load into a dataframe"
   ]
  },
  {
   "cell_type": "code",
   "execution_count": null,
   "id": "616d5035",
   "metadata": {},
   "outputs": [],
   "source": []
  }
 ],
 "metadata": {
  "language_info": {
   "name": "python"
  }
 },
 "nbformat": 4,
 "nbformat_minor": 5
}
