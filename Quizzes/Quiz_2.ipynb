{
 "cells": [
  {
   "cell_type": "markdown",
   "id": "457759d6",
   "metadata": {},
   "source": [
    "# **Quiz 2**\n",
    "Background knowledge:\n",
    "* A pairs trade is a trading strategy that involves matching a long position with a short position in two stocks with a high correlation\n",
    "* A pairs trade strategy is based on the historical correlation of two securities; the securities in a pairs trade hust have a high positive correlation"
   ]
  },
  {
   "cell_type": "code",
   "execution_count": 49,
   "id": "ba94d24a",
   "metadata": {},
   "outputs": [],
   "source": [
    "# Import dependencies\n",
    "import pandas as pd\n",
    "import numpy as np"
   ]
  },
  {
   "cell_type": "markdown",
   "id": "5f6ab88e",
   "metadata": {},
   "source": [
    "## Question 1\n",
    "Load the 6 csv files into 6 dataframes"
   ]
  },
  {
   "cell_type": "code",
   "execution_count": 50,
   "id": "1d56031c",
   "metadata": {},
   "outputs": [
    {
     "data": {
      "text/html": [
       "<div>\n",
       "<style scoped>\n",
       "    .dataframe tbody tr th:only-of-type {\n",
       "        vertical-align: middle;\n",
       "    }\n",
       "\n",
       "    .dataframe tbody tr th {\n",
       "        vertical-align: top;\n",
       "    }\n",
       "\n",
       "    .dataframe thead th {\n",
       "        text-align: right;\n",
       "    }\n",
       "</style>\n",
       "<table border=\"1\" class=\"dataframe\">\n",
       "  <thead>\n",
       "    <tr style=\"text-align: right;\">\n",
       "      <th></th>\n",
       "      <th>Date</th>\n",
       "      <th>Open</th>\n",
       "      <th>High</th>\n",
       "      <th>Low</th>\n",
       "      <th>Close</th>\n",
       "      <th>Adj Close</th>\n",
       "      <th>Volume</th>\n",
       "    </tr>\n",
       "  </thead>\n",
       "  <tbody>\n",
       "    <tr>\n",
       "      <th>0</th>\n",
       "      <td>28-Dec-18</td>\n",
       "      <td>30.69</td>\n",
       "      <td>31.16</td>\n",
       "      <td>30.55</td>\n",
       "      <td>30.71</td>\n",
       "      <td>27.99</td>\n",
       "      <td>29,622,000</td>\n",
       "    </tr>\n",
       "    <tr>\n",
       "      <th>1</th>\n",
       "      <td>27-Dec-18</td>\n",
       "      <td>29.92</td>\n",
       "      <td>30.54</td>\n",
       "      <td>29.48</td>\n",
       "      <td>30.53</td>\n",
       "      <td>27.82</td>\n",
       "      <td>29,644,500</td>\n",
       "    </tr>\n",
       "    <tr>\n",
       "      <th>2</th>\n",
       "      <td>26-Dec-18</td>\n",
       "      <td>28.81</td>\n",
       "      <td>30.14</td>\n",
       "      <td>28.77</td>\n",
       "      <td>30.14</td>\n",
       "      <td>27.47</td>\n",
       "      <td>30,084,900</td>\n",
       "    </tr>\n",
       "    <tr>\n",
       "      <th>3</th>\n",
       "      <td>24-Dec-18</td>\n",
       "      <td>28.85</td>\n",
       "      <td>29.19</td>\n",
       "      <td>28.59</td>\n",
       "      <td>28.61</td>\n",
       "      <td>26.07</td>\n",
       "      <td>18,330,900</td>\n",
       "    </tr>\n",
       "    <tr>\n",
       "      <th>4</th>\n",
       "      <td>21-Dec-18</td>\n",
       "      <td>28.96</td>\n",
       "      <td>29.82</td>\n",
       "      <td>28.93</td>\n",
       "      <td>29.04</td>\n",
       "      <td>26.47</td>\n",
       "      <td>44,764,500</td>\n",
       "    </tr>\n",
       "  </tbody>\n",
       "</table>\n",
       "</div>"
      ],
      "text/plain": [
       "        Date   Open   High    Low  Close  Adj Close      Volume\n",
       "0  28-Dec-18  30.69  31.16  30.55  30.71      27.99  29,622,000\n",
       "1  27-Dec-18  29.92  30.54  29.48  30.53      27.82  29,644,500\n",
       "2  26-Dec-18  28.81  30.14  28.77  30.14      27.47  30,084,900\n",
       "3  24-Dec-18  28.85  29.19  28.59  28.61      26.07  18,330,900\n",
       "4  21-Dec-18  28.96  29.82  28.93  29.04      26.47  44,764,500"
      ]
     },
     "execution_count": 50,
     "metadata": {},
     "output_type": "execute_result"
    }
   ],
   "source": [
    "IBM = pd.read_csv('ibm.csv')\n",
    "MSFT = pd.read_csv('msft.csv')\n",
    "TSLA = pd.read_csv('tsla.csv')\n",
    "NFLX = pd.read_csv('nflx.csv')\n",
    "META = pd.read_csv('meta.csv')\n",
    "WMT = pd.read_csv('wmt.csv')\n",
    "WMT.head()"
   ]
  },
  {
   "cell_type": "markdown",
   "id": "dc8b2652",
   "metadata": {},
   "source": [
    "## Question 2\n",
    "Retrieve the \"Close\" columns from the 6 dataframes into 6 serieses."
   ]
  },
  {
   "cell_type": "code",
   "execution_count": 51,
   "id": "12f02d2b",
   "metadata": {},
   "outputs": [
    {
     "name": "stdout",
     "output_type": "stream",
     "text": [
      "<class 'pandas.core.series.Series'>\n"
     ]
    },
    {
     "data": {
      "text/plain": [
       "0    100.39\n",
       "1    101.18\n",
       "2    100.56\n",
       "3     94.13\n",
       "4     98.23\n",
       "Name: Close, dtype: float64"
      ]
     },
     "execution_count": 51,
     "metadata": {},
     "output_type": "execute_result"
    }
   ],
   "source": [
    "IBM_close = IBM['Close']\n",
    "MSFT_close = MSFT['Close']\n",
    "TSLA_close = TSLA['Close']\n",
    "NFLX_close = NFLX['Close']\n",
    "META_close = META['Close']\n",
    "WMT_close = WMT['Close']\n",
    "print(type(IBM_close))\n",
    "MSFT_close.head()\n"
   ]
  },
  {
   "cell_type": "markdown",
   "id": "64a230e6",
   "metadata": {},
   "source": [
    "## Question 3\n",
    "Create a \"Close\" dataframe with \"Date\" index and \"tks\" (ticker) column name"
   ]
  },
  {
   "cell_type": "code",
   "execution_count": 52,
   "id": "c3c4fc64",
   "metadata": {},
   "outputs": [
    {
     "name": "stdout",
     "output_type": "stream",
     "text": [
      "IBM     0\n",
      "MSFT    0\n",
      "TSLA    0\n",
      "NFLX    0\n",
      "META    0\n",
      "WMT     0\n",
      "dtype: int64\n",
      "<bound method DataFrame.info of               IBM    MSFT   TSLA    NFLX    META    WMT\n",
      "Date                                                   \n",
      "28-Dec-18  108.06  100.39  22.26  256.08  133.20  30.71\n",
      "27-Dec-18  108.78  101.18  21.08  255.57  134.52  30.53\n",
      "26-Dec-18  106.49  100.56  21.74  253.67  134.18  30.14\n",
      "24-Dec-18  102.84   94.13  19.69  233.88  124.06  28.61\n",
      "21-Dec-18  106.06   98.23  21.32  246.39  124.95  29.04\n",
      "...           ...     ...    ...     ...     ...    ...\n",
      "8-Jan-18   156.28   88.28  22.43  212.05  188.28  33.87\n",
      "5-Jan-18   155.34   88.19  21.11  209.99  186.85  33.38\n",
      "4-Jan-18   154.59   87.11  20.97  205.63  184.33  33.18\n",
      "3-Jan-18   151.52   86.35  21.15  205.05  184.67  33.15\n",
      "2-Jan-18   147.47   85.95  21.37  201.07  181.42  32.86\n",
      "\n",
      "[250 rows x 6 columns]>\n"
     ]
    },
    {
     "data": {
      "text/html": [
       "<div>\n",
       "<style scoped>\n",
       "    .dataframe tbody tr th:only-of-type {\n",
       "        vertical-align: middle;\n",
       "    }\n",
       "\n",
       "    .dataframe tbody tr th {\n",
       "        vertical-align: top;\n",
       "    }\n",
       "\n",
       "    .dataframe thead th {\n",
       "        text-align: right;\n",
       "    }\n",
       "</style>\n",
       "<table border=\"1\" class=\"dataframe\">\n",
       "  <thead>\n",
       "    <tr style=\"text-align: right;\">\n",
       "      <th></th>\n",
       "      <th>IBM</th>\n",
       "      <th>MSFT</th>\n",
       "      <th>TSLA</th>\n",
       "      <th>NFLX</th>\n",
       "      <th>META</th>\n",
       "      <th>WMT</th>\n",
       "    </tr>\n",
       "    <tr>\n",
       "      <th>Date</th>\n",
       "      <th></th>\n",
       "      <th></th>\n",
       "      <th></th>\n",
       "      <th></th>\n",
       "      <th></th>\n",
       "      <th></th>\n",
       "    </tr>\n",
       "  </thead>\n",
       "  <tbody>\n",
       "    <tr>\n",
       "      <th>28-Dec-18</th>\n",
       "      <td>108.06</td>\n",
       "      <td>100.39</td>\n",
       "      <td>22.26</td>\n",
       "      <td>256.08</td>\n",
       "      <td>133.20</td>\n",
       "      <td>30.71</td>\n",
       "    </tr>\n",
       "    <tr>\n",
       "      <th>27-Dec-18</th>\n",
       "      <td>108.78</td>\n",
       "      <td>101.18</td>\n",
       "      <td>21.08</td>\n",
       "      <td>255.57</td>\n",
       "      <td>134.52</td>\n",
       "      <td>30.53</td>\n",
       "    </tr>\n",
       "    <tr>\n",
       "      <th>26-Dec-18</th>\n",
       "      <td>106.49</td>\n",
       "      <td>100.56</td>\n",
       "      <td>21.74</td>\n",
       "      <td>253.67</td>\n",
       "      <td>134.18</td>\n",
       "      <td>30.14</td>\n",
       "    </tr>\n",
       "    <tr>\n",
       "      <th>24-Dec-18</th>\n",
       "      <td>102.84</td>\n",
       "      <td>94.13</td>\n",
       "      <td>19.69</td>\n",
       "      <td>233.88</td>\n",
       "      <td>124.06</td>\n",
       "      <td>28.61</td>\n",
       "    </tr>\n",
       "    <tr>\n",
       "      <th>21-Dec-18</th>\n",
       "      <td>106.06</td>\n",
       "      <td>98.23</td>\n",
       "      <td>21.32</td>\n",
       "      <td>246.39</td>\n",
       "      <td>124.95</td>\n",
       "      <td>29.04</td>\n",
       "    </tr>\n",
       "  </tbody>\n",
       "</table>\n",
       "</div>"
      ],
      "text/plain": [
       "              IBM    MSFT   TSLA    NFLX    META    WMT\n",
       "Date                                                   \n",
       "28-Dec-18  108.06  100.39  22.26  256.08  133.20  30.71\n",
       "27-Dec-18  108.78  101.18  21.08  255.57  134.52  30.53\n",
       "26-Dec-18  106.49  100.56  21.74  253.67  134.18  30.14\n",
       "24-Dec-18  102.84   94.13  19.69  233.88  124.06  28.61\n",
       "21-Dec-18  106.06   98.23  21.32  246.39  124.95  29.04"
      ]
     },
     "execution_count": 52,
     "metadata": {},
     "output_type": "execute_result"
    }
   ],
   "source": [
    "close_prices = pd.DataFrame({\n",
    "    'IBM': IBM_close.values,\n",
    "    'MSFT': MSFT_close.values,\n",
    "    'TSLA': TSLA_close.values,\n",
    "    'NFLX': NFLX_close.values,\n",
    "    'META': META_close.values,\n",
    "    'WMT': WMT_close.values\n",
    "}, index=IBM['Date'])\n",
    "print(close_prices.isnull().sum())\n",
    "print(close_prices.info)\n",
    "close_prices.head()"
   ]
  },
  {
   "cell_type": "markdown",
   "id": "b89f4fda",
   "metadata": {},
   "source": [
    "## Question 4\n",
    "Use the dataframe from question 3 and use \"apply\" and \"lambda\" functions to compute each stocks' average price of 2018"
   ]
  },
  {
   "cell_type": "code",
   "execution_count": 53,
   "id": "3393cf03",
   "metadata": {},
   "outputs": [
    {
     "data": {
      "text/plain": [
       "IBM     137.64452\n",
       "MSFT    101.03184\n",
       "TSLA     21.14964\n",
       "NFLX    319.49684\n",
       "META    171.67264\n",
       "WMT      30.78884\n",
       "dtype: float64"
      ]
     },
     "execution_count": 53,
     "metadata": {},
     "output_type": "execute_result"
    }
   ],
   "source": [
    "close_avg = close_prices.apply(lambda x: x.mean())\n",
    "close_avg"
   ]
  },
  {
   "cell_type": "markdown",
   "id": "4ef8ff7c",
   "metadata": {},
   "source": [
    "## Question 5\n",
    "Add a \"tech_leader\" column to the close_prices dataframe containing the max value of the other 6 columns "
   ]
  },
  {
   "cell_type": "code",
   "execution_count": 54,
   "id": "9cbdb1f6",
   "metadata": {},
   "outputs": [
    {
     "data": {
      "text/html": [
       "<div>\n",
       "<style scoped>\n",
       "    .dataframe tbody tr th:only-of-type {\n",
       "        vertical-align: middle;\n",
       "    }\n",
       "\n",
       "    .dataframe tbody tr th {\n",
       "        vertical-align: top;\n",
       "    }\n",
       "\n",
       "    .dataframe thead th {\n",
       "        text-align: right;\n",
       "    }\n",
       "</style>\n",
       "<table border=\"1\" class=\"dataframe\">\n",
       "  <thead>\n",
       "    <tr style=\"text-align: right;\">\n",
       "      <th></th>\n",
       "      <th>IBM</th>\n",
       "      <th>MSFT</th>\n",
       "      <th>TSLA</th>\n",
       "      <th>NFLX</th>\n",
       "      <th>META</th>\n",
       "      <th>WMT</th>\n",
       "      <th>tech_leader</th>\n",
       "    </tr>\n",
       "    <tr>\n",
       "      <th>Date</th>\n",
       "      <th></th>\n",
       "      <th></th>\n",
       "      <th></th>\n",
       "      <th></th>\n",
       "      <th></th>\n",
       "      <th></th>\n",
       "      <th></th>\n",
       "    </tr>\n",
       "  </thead>\n",
       "  <tbody>\n",
       "    <tr>\n",
       "      <th>28-Dec-18</th>\n",
       "      <td>108.06</td>\n",
       "      <td>100.39</td>\n",
       "      <td>22.26</td>\n",
       "      <td>256.08</td>\n",
       "      <td>133.20</td>\n",
       "      <td>30.71</td>\n",
       "      <td>256.08</td>\n",
       "    </tr>\n",
       "    <tr>\n",
       "      <th>27-Dec-18</th>\n",
       "      <td>108.78</td>\n",
       "      <td>101.18</td>\n",
       "      <td>21.08</td>\n",
       "      <td>255.57</td>\n",
       "      <td>134.52</td>\n",
       "      <td>30.53</td>\n",
       "      <td>255.57</td>\n",
       "    </tr>\n",
       "    <tr>\n",
       "      <th>26-Dec-18</th>\n",
       "      <td>106.49</td>\n",
       "      <td>100.56</td>\n",
       "      <td>21.74</td>\n",
       "      <td>253.67</td>\n",
       "      <td>134.18</td>\n",
       "      <td>30.14</td>\n",
       "      <td>253.67</td>\n",
       "    </tr>\n",
       "    <tr>\n",
       "      <th>24-Dec-18</th>\n",
       "      <td>102.84</td>\n",
       "      <td>94.13</td>\n",
       "      <td>19.69</td>\n",
       "      <td>233.88</td>\n",
       "      <td>124.06</td>\n",
       "      <td>28.61</td>\n",
       "      <td>233.88</td>\n",
       "    </tr>\n",
       "    <tr>\n",
       "      <th>21-Dec-18</th>\n",
       "      <td>106.06</td>\n",
       "      <td>98.23</td>\n",
       "      <td>21.32</td>\n",
       "      <td>246.39</td>\n",
       "      <td>124.95</td>\n",
       "      <td>29.04</td>\n",
       "      <td>246.39</td>\n",
       "    </tr>\n",
       "  </tbody>\n",
       "</table>\n",
       "</div>"
      ],
      "text/plain": [
       "              IBM    MSFT   TSLA    NFLX    META    WMT  tech_leader\n",
       "Date                                                                \n",
       "28-Dec-18  108.06  100.39  22.26  256.08  133.20  30.71       256.08\n",
       "27-Dec-18  108.78  101.18  21.08  255.57  134.52  30.53       255.57\n",
       "26-Dec-18  106.49  100.56  21.74  253.67  134.18  30.14       253.67\n",
       "24-Dec-18  102.84   94.13  19.69  233.88  124.06  28.61       233.88\n",
       "21-Dec-18  106.06   98.23  21.32  246.39  124.95  29.04       246.39"
      ]
     },
     "execution_count": 54,
     "metadata": {},
     "output_type": "execute_result"
    }
   ],
   "source": [
    "close_prices['tech_leader'] = close_prices.apply(lambda row: row.max(), axis=1)\n",
    "close_prices.head()"
   ]
  },
  {
   "cell_type": "markdown",
   "id": "aecd9c57",
   "metadata": {},
   "source": [
    "## Question 6\n",
    "Write a function called \"getCorr(series1, series2)\", where series1 and series2 are two columns from the above dataframe in question 3. Within this function, you must use vectorization technique to implement the correlation formula as shown above. (NOTE: If you use an existing correlation/standard deviation functions or if you write a loop here, you get zero point.)"
   ]
  },
  {
   "cell_type": "code",
   "execution_count": 57,
   "id": "84435c21",
   "metadata": {},
   "outputs": [],
   "source": [
    "def getCorr(series1: pd.Series, series2: pd.Series) -> float:\n",
    "    x = series1.values\n",
    "    y = series2.values\n",
    "    x_mean = x.mean()\n",
    "    y_mean = y.mean()\n",
    "    numerator = np.sum((x - x_mean) * (y - y_mean))\n",
    "    denominator = np.sqrt(np.sum((x - x_mean)**2) * np.sum((y - y_mean)**2))\n",
    "    r_xy = numerator / denominator\n",
    "    return r_xy"
   ]
  },
  {
   "cell_type": "markdown",
   "id": "c841c6ff",
   "metadata": {},
   "source": [
    "## Question 7\n",
    "Write python code to find which pair of two stocks has the highest correlation. You must use the function of question 6. You can use loop in this question.\n"
   ]
  },
  {
   "cell_type": "code",
   "execution_count": 69,
   "id": "f6cf753f",
   "metadata": {},
   "outputs": [
    {
     "name": "stdout",
     "output_type": "stream",
     "text": [
      "The pair of stocks with the highest correlation is: IBM and META with a correlation of 0.6338546221059089\n"
     ]
    }
   ],
   "source": [
    "tks = [IBM, MSFT, TSLA, NFLX, META, WMT]\n",
    "names = dict(zip(range(len(tks)), ['IBM', 'MSFT', 'TSLA', 'NFLX', 'META', 'WMT']))\n",
    "\n",
    "max_corr = -1\n",
    "best_pair = (None, None)\n",
    "\n",
    "for i in range(len(tks)):\n",
    "    for j in range(i + 1, len(tks)):\n",
    "        corr = getCorr(close_prices.iloc[:, i], close_prices.iloc[:, j])\n",
    "        if corr > max_corr:\n",
    "            max_corr = corr\n",
    "            best_pair = (names[i], names[j])\n",
    "\n",
    "print(f\"The pair of stocks with the highest correlation is: {'{0} and {1}'.format(*best_pair)} with a correlation of {max_corr}\")\n"
   ]
  },
  {
   "cell_type": "code",
   "execution_count": null,
   "id": "8bdc6f2a",
   "metadata": {},
   "outputs": [],
   "source": []
  }
 ],
 "metadata": {
  "kernelspec": {
   "display_name": "base",
   "language": "python",
   "name": "python3"
  },
  "language_info": {
   "codemirror_mode": {
    "name": "ipython",
    "version": 3
   },
   "file_extension": ".py",
   "mimetype": "text/x-python",
   "name": "python",
   "nbconvert_exporter": "python",
   "pygments_lexer": "ipython3",
   "version": "3.13.5"
  }
 },
 "nbformat": 4,
 "nbformat_minor": 5
}
